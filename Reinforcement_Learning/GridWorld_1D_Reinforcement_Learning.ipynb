{
 "cells": [
  {
   "cell_type": "code",
   "execution_count": 7,
   "metadata": {},
   "outputs": [],
   "source": [
    "class Environment:\n",
    "    def __init__(self):\n",
    "        self.steps = 10\n",
    "        self.board = [False for x in range(0,5)]\n",
    "        self.board[4] = True\n",
    "\n",
    "    def reset(self):\n",
    "        self.steps = 10\n",
    "    \n",
    "    def start(self):\n",
    "        return 0\n",
    "\n",
    "    def end(self):\n",
    "        return len(self.board)\n",
    "    \n",
    "    def is_done(self) -> bool:\n",
    "        return self.steps == 0\n",
    "    \n",
    "    def action(self, state) -> bool:\n",
    "        self.steps -= 1\n",
    "        if self.is_done():\n",
    "            print('Did not reach the goal')\n",
    "        return self.board[state]\n",
    "    "
   ]
  },
  {
   "cell_type": "code",
   "execution_count": 8,
   "metadata": {},
   "outputs": [],
   "source": [
    "import random\n",
    "\n",
    "class Agent:\n",
    "    def __init__(self):\n",
    "        self.state = 0\n",
    "        self.actions = [0,1]\n",
    "    \n",
    "    def reset(self):\n",
    "        self.state = 0\n",
    "\n",
    "    def forward(self, limit):\n",
    "        self.state = min(self.state + 1, limit - 1)\n",
    "    \n",
    "    def back(self, lowLimit):\n",
    "        self.state = max(self.state - 1, lowLimit)\n",
    "\n",
    "    def action(self, env: Environment):\n",
    "        action = random.choice(self.actions)\n",
    "        if action:\n",
    "            self.forward(env.end())\n",
    "        else:\n",
    "            self.back(env.start())\n",
    "        return env.action(self.state)"
   ]
  },
  {
   "cell_type": "code",
   "execution_count": 17,
   "metadata": {},
   "outputs": [],
   "source": [
    "def main():\n",
    "    episodes = 9\n",
    "    a = Agent()\n",
    "    e = Environment()\n",
    "    for i in range(0, episodes):\n",
    "        print(f'Episode: {i+1}')\n",
    "        count = 0\n",
    "        while not e.is_done():\n",
    "            count += a.action(e)\n",
    "        print(f'{count} success - {episodes - count} Fail')\n",
    "        a.reset()\n",
    "        e.reset()"
   ]
  },
  {
   "cell_type": "code",
   "execution_count": 18,
   "metadata": {},
   "outputs": [
    {
     "name": "stdout",
     "output_type": "stream",
     "text": [
      "Episode: 1\n",
      "Did not reach the goal\n",
      "0 success - 9 Fail\n",
      "Episode: 2\n",
      "Did not reach the goal\n",
      "0 success - 9 Fail\n",
      "Episode: 3\n",
      "Did not reach the goal\n",
      "0 success - 9 Fail\n",
      "Episode: 4\n",
      "Did not reach the goal\n",
      "1 success - 8 Fail\n",
      "Episode: 5\n",
      "Did not reach the goal\n",
      "2 success - 7 Fail\n",
      "Episode: 6\n",
      "Did not reach the goal\n",
      "0 success - 9 Fail\n",
      "Episode: 7\n",
      "Did not reach the goal\n",
      "0 success - 9 Fail\n",
      "Episode: 8\n",
      "Did not reach the goal\n",
      "1 success - 8 Fail\n",
      "Episode: 9\n",
      "Did not reach the goal\n",
      "0 success - 9 Fail\n"
     ]
    }
   ],
   "source": [
    "main()"
   ]
  },
  {
   "cell_type": "code",
   "execution_count": null,
   "metadata": {},
   "outputs": [],
   "source": []
  }
 ],
 "metadata": {
  "kernelspec": {
   "display_name": "base",
   "language": "python",
   "name": "python3"
  },
  "language_info": {
   "codemirror_mode": {
    "name": "ipython",
    "version": 3
   },
   "file_extension": ".py",
   "mimetype": "text/x-python",
   "name": "python",
   "nbconvert_exporter": "python",
   "pygments_lexer": "ipython3",
   "version": "3.11.4"
  }
 },
 "nbformat": 4,
 "nbformat_minor": 2
}
