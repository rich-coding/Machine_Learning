{
  "cells": [
    {
      "cell_type": "markdown",
      "metadata": {
        "id": "VhXVjETXXUaw"
      },
      "source": [
        "# Tráfico en Colombia con Random Forest\n",
        "\n",
        "Autores: Laura Sofia Valencia Colman, Richard Stiv Murcia Huerfano\n",
        "\n",
        "Este Notebook contiene todo el código de un modelo de Machine Learning ([Random Forest Regression](https://scikit-learn.org/stable/modules/generated/sklearn.ensemble.RandomForestRegressor.html) de la libreria SkLearn) que predice el tráfico para los distintos 185 peajes de Colombia. Debido a que se trata de una regresión con múltiples variables (predictores), al final se muestran las graficas que resumen la predicción del tráfico en función de las distintas variables.\n",
        "\n",
        "$Y_{Trafico} = f(X_{IdPeaje}, X_{IDC}, X_{Year}, X_{Month}, X_{Day}, X_{ValorTarifa})$\n",
        "\n",
        "Este modelo de regresión obtuvo una métrica de medición del 96.3% para la fase de train y del 86% para la fase de test, lo que indica un sobreajuste en el modelo.\n",
        "\n",
        "Finalmente, se realiza una evaluación del impacto de cada variable sobre el Trafico predicho usando los valores Shapley de la teoria de juegos con la libreria [SHAP](https://shap.readthedocs.io/en/latest/index.html)."
      ]
    },
    {
      "cell_type": "markdown",
      "metadata": {
        "id": "zkoAidV4WcCP"
      },
      "source": [
        "## Instalación e Importación de Librerias"
      ]
    },
    {
      "cell_type": "code",
      "execution_count": 1,
      "metadata": {
        "colab": {
          "base_uri": "https://localhost:8080/"
        },
        "id": "iApCs4ZzqGsV",
        "outputId": "5bc47f4a-0efa-4b97-9704-4ac68a8f2038"
      },
      "outputs": [
        {
          "name": "stdout",
          "output_type": "stream",
          "text": [
            "Requirement already satisfied: geopandas in d:\\anaconda3\\lib\\site-packages (0.14.3)\n",
            "Requirement already satisfied: shap in d:\\anaconda3\\lib\\site-packages (0.44.1)\n",
            "Requirement already satisfied: fiona>=1.8.21 in d:\\anaconda3\\lib\\site-packages (from geopandas) (1.9.5)\n",
            "Requirement already satisfied: packaging in d:\\anaconda3\\lib\\site-packages (from geopandas) (23.0)\n",
            "Requirement already satisfied: pandas>=1.4.0 in d:\\anaconda3\\lib\\site-packages (from geopandas) (1.5.3)\n",
            "Requirement already satisfied: pyproj>=3.3.0 in d:\\anaconda3\\lib\\site-packages (from geopandas) (3.6.1)\n",
            "Requirement already satisfied: shapely>=1.8.0 in d:\\anaconda3\\lib\\site-packages (from geopandas) (2.0.3)\n",
            "Requirement already satisfied: numpy in d:\\anaconda3\\lib\\site-packages (from shap) (1.24.3)\n",
            "Requirement already satisfied: scipy in d:\\anaconda3\\lib\\site-packages (from shap) (1.10.1)\n",
            "Requirement already satisfied: scikit-learn in d:\\anaconda3\\lib\\site-packages (from shap) (1.4.0)\n",
            "Requirement already satisfied: tqdm>=4.27.0 in d:\\anaconda3\\lib\\site-packages (from shap) (4.65.0)\n",
            "Requirement already satisfied: slicer==0.0.7 in d:\\anaconda3\\lib\\site-packages (from shap) (0.0.7)\n",
            "Requirement already satisfied: numba in d:\\anaconda3\\lib\\site-packages (from shap) (0.57.0)\n",
            "Requirement already satisfied: cloudpickle in d:\\anaconda3\\lib\\site-packages (from shap) (2.2.1)\n",
            "Requirement already satisfied: attrs>=19.2.0 in d:\\anaconda3\\lib\\site-packages (from fiona>=1.8.21->geopandas) (22.1.0)\n",
            "Requirement already satisfied: certifi in d:\\anaconda3\\lib\\site-packages (from fiona>=1.8.21->geopandas) (2023.7.22)\n",
            "Requirement already satisfied: click~=8.0 in d:\\anaconda3\\lib\\site-packages (from fiona>=1.8.21->geopandas) (8.0.4)\n",
            "Requirement already satisfied: click-plugins>=1.0 in d:\\anaconda3\\lib\\site-packages (from fiona>=1.8.21->geopandas) (1.1.1)\n",
            "Requirement already satisfied: cligj>=0.5 in d:\\anaconda3\\lib\\site-packages (from fiona>=1.8.21->geopandas) (0.7.2)\n",
            "Requirement already satisfied: six in d:\\anaconda3\\lib\\site-packages (from fiona>=1.8.21->geopandas) (1.16.0)\n",
            "Requirement already satisfied: setuptools in d:\\anaconda3\\lib\\site-packages (from fiona>=1.8.21->geopandas) (68.0.0)\n",
            "Requirement already satisfied: python-dateutil>=2.8.1 in d:\\anaconda3\\lib\\site-packages (from pandas>=1.4.0->geopandas) (2.8.2)\n",
            "Requirement already satisfied: pytz>=2020.1 in d:\\anaconda3\\lib\\site-packages (from pandas>=1.4.0->geopandas) (2022.7)\n",
            "Requirement already satisfied: colorama in d:\\anaconda3\\lib\\site-packages (from tqdm>=4.27.0->shap) (0.4.6)\n",
            "Requirement already satisfied: llvmlite<0.41,>=0.40.0dev0 in d:\\anaconda3\\lib\\site-packages (from numba->shap) (0.40.0)\n",
            "Requirement already satisfied: joblib>=1.2.0 in d:\\anaconda3\\lib\\site-packages (from scikit-learn->shap) (1.2.0)\n",
            "Requirement already satisfied: threadpoolctl>=2.0.0 in d:\\anaconda3\\lib\\site-packages (from scikit-learn->shap) (2.2.0)\n"
          ]
        }
      ],
      "source": [
        "#Instalación de librerias faltantes.\n",
        "!pip install geopandas shap\n",
        "\n",
        "#Estructura de datos y graficos.\n",
        "import pandas as pd\n",
        "import geopandas as gpd\n",
        "from shapely.geometry import Point\n",
        "\"\"\"from matplotlib import pyplot as plt\"\"\"\n",
        "import numpy as np\n",
        "import matplotlib.pyplot as plt\n",
        "\"\"\"import gzip\"\"\"\n",
        "\"\"\"import shutil\"\"\"\n",
        "\n",
        "#Modelo de Sklearn\n",
        "from sklearn.model_selection import train_test_split\n",
        "from sklearn.preprocessing import StandardScaler\n",
        "from sklearn.ensemble import RandomForestRegressor\n",
        "from sklearn.metrics import classification_report, confusion_matrix"
      ]
    },
    {
      "cell_type": "markdown",
      "metadata": {
        "id": "zy0V4wy9WzTv"
      },
      "source": [
        "## Importación y Exploración de Datos"
      ]
    },
    {
      "cell_type": "code",
      "execution_count": 2,
      "metadata": {
        "colab": {
          "base_uri": "https://localhost:8080/"
        },
        "id": "TDaj26fmRwzw",
        "outputId": "cf6ada19-5a1e-483b-cc6b-6c8b7c23973a"
      },
      "outputs": [],
      "source": [
        "#Ubicación del dataset\n",
        "peajes = \"peajes_colombia.csv\"\n",
        "\n",
        "#Importación del Data Set\n",
        "df_peajes = pd.read_csv(peajes, encoding= 'unicode_escape')"
      ]
    },
    {
      "cell_type": "code",
      "execution_count": 3,
      "metadata": {
        "colab": {
          "base_uri": "https://localhost:8080/"
        },
        "id": "WWlRhII1j6O_",
        "outputId": "af0d3dec-86c6-4b64-85aa-cb11f21913ad"
      },
      "outputs": [
        {
          "data": {
            "text/html": [
              "<div>\n",
              "<style scoped>\n",
              "    .dataframe tbody tr th:only-of-type {\n",
              "        vertical-align: middle;\n",
              "    }\n",
              "\n",
              "    .dataframe tbody tr th {\n",
              "        vertical-align: top;\n",
              "    }\n",
              "\n",
              "    .dataframe thead th {\n",
              "        text-align: right;\n",
              "    }\n",
              "</style>\n",
              "<table border=\"1\" class=\"dataframe\">\n",
              "  <thead>\n",
              "    <tr style=\"text-align: right;\">\n",
              "      <th></th>\n",
              "      <th>IdPeaje</th>\n",
              "      <th>Peaje</th>\n",
              "      <th>IdCategoriaTarifa</th>\n",
              "      <th>FechaDesde</th>\n",
              "      <th>FechaHasta</th>\n",
              "      <th>ValorTarifa</th>\n",
              "      <th>Trafico</th>\n",
              "      <th>TraficoEvasores</th>\n",
              "      <th>TraficoExentos787</th>\n",
              "      <th>Lat</th>\n",
              "      <th>Lon</th>\n",
              "    </tr>\n",
              "  </thead>\n",
              "  <tbody>\n",
              "    <tr>\n",
              "      <th>0</th>\n",
              "      <td>1</td>\n",
              "      <td>ALVARADO</td>\n",
              "      <td>I</td>\n",
              "      <td>8/21/2015</td>\n",
              "      <td>8/31/2015</td>\n",
              "      <td>7000</td>\n",
              "      <td>27730</td>\n",
              "      <td>0.0</td>\n",
              "      <td>660.0</td>\n",
              "      <td>-74.991661</td>\n",
              "      <td>4.507609</td>\n",
              "    </tr>\n",
              "    <tr>\n",
              "      <th>1</th>\n",
              "      <td>1</td>\n",
              "      <td>ALVARADO</td>\n",
              "      <td>II</td>\n",
              "      <td>8/21/2015</td>\n",
              "      <td>8/31/2015</td>\n",
              "      <td>7600</td>\n",
              "      <td>9930</td>\n",
              "      <td>0.0</td>\n",
              "      <td>70.0</td>\n",
              "      <td>-74.991661</td>\n",
              "      <td>4.507609</td>\n",
              "    </tr>\n",
              "    <tr>\n",
              "      <th>2</th>\n",
              "      <td>1</td>\n",
              "      <td>ALVARADO</td>\n",
              "      <td>III</td>\n",
              "      <td>8/21/2015</td>\n",
              "      <td>8/31/2015</td>\n",
              "      <td>16100</td>\n",
              "      <td>1277</td>\n",
              "      <td>0.0</td>\n",
              "      <td>0.0</td>\n",
              "      <td>-74.991661</td>\n",
              "      <td>4.507609</td>\n",
              "    </tr>\n",
              "    <tr>\n",
              "      <th>3</th>\n",
              "      <td>1</td>\n",
              "      <td>ALVARADO</td>\n",
              "      <td>IV</td>\n",
              "      <td>8/21/2015</td>\n",
              "      <td>8/31/2015</td>\n",
              "      <td>20400</td>\n",
              "      <td>2074</td>\n",
              "      <td>0.0</td>\n",
              "      <td>0.0</td>\n",
              "      <td>-74.991661</td>\n",
              "      <td>4.507609</td>\n",
              "    </tr>\n",
              "    <tr>\n",
              "      <th>4</th>\n",
              "      <td>1</td>\n",
              "      <td>ALVARADO</td>\n",
              "      <td>V</td>\n",
              "      <td>8/21/2015</td>\n",
              "      <td>8/31/2015</td>\n",
              "      <td>22900</td>\n",
              "      <td>4167</td>\n",
              "      <td>0.0</td>\n",
              "      <td>0.0</td>\n",
              "      <td>-74.991661</td>\n",
              "      <td>4.507609</td>\n",
              "    </tr>\n",
              "  </tbody>\n",
              "</table>\n",
              "</div>"
            ],
            "text/plain": [
              "   IdPeaje     Peaje IdCategoriaTarifa FechaDesde FechaHasta  ValorTarifa  \\\n",
              "0        1  ALVARADO                 I  8/21/2015  8/31/2015         7000   \n",
              "1        1  ALVARADO                II  8/21/2015  8/31/2015         7600   \n",
              "2        1  ALVARADO               III  8/21/2015  8/31/2015        16100   \n",
              "3        1  ALVARADO                IV  8/21/2015  8/31/2015        20400   \n",
              "4        1  ALVARADO                 V  8/21/2015  8/31/2015        22900   \n",
              "\n",
              "   Trafico  TraficoEvasores  TraficoExentos787        Lat       Lon  \n",
              "0    27730              0.0              660.0 -74.991661  4.507609  \n",
              "1     9930              0.0               70.0 -74.991661  4.507609  \n",
              "2     1277              0.0                0.0 -74.991661  4.507609  \n",
              "3     2074              0.0                0.0 -74.991661  4.507609  \n",
              "4     4167              0.0                0.0 -74.991661  4.507609  "
            ]
          },
          "execution_count": 3,
          "metadata": {},
          "output_type": "execute_result"
        }
      ],
      "source": [
        "#Mostrando el Data Set\n",
        "df_peajes.head()"
      ]
    },
    {
      "cell_type": "code",
      "execution_count": 4,
      "metadata": {
        "colab": {
          "base_uri": "https://localhost:8080/"
        },
        "id": "nPA1INfUk0GY",
        "outputId": "76ab7ece-9927-4439-df60-de9f4b3ff407"
      },
      "outputs": [
        {
          "name": "stdout",
          "output_type": "stream",
          "text": [
            "<class 'pandas.core.frame.DataFrame'>\n",
            "RangeIndex: 98306 entries, 0 to 98305\n",
            "Data columns (total 11 columns):\n",
            " #   Column             Non-Null Count  Dtype  \n",
            "---  ------             --------------  -----  \n",
            " 0   IdPeaje            98306 non-null  int64  \n",
            " 1   Peaje              98306 non-null  object \n",
            " 2   IdCategoriaTarifa  98306 non-null  object \n",
            " 3   FechaDesde         98306 non-null  object \n",
            " 4   FechaHasta         98306 non-null  object \n",
            " 5   ValorTarifa        98306 non-null  int64  \n",
            " 6   Trafico            98306 non-null  int64  \n",
            " 7   TraficoEvasores    96262 non-null  float64\n",
            " 8   TraficoExentos787  96281 non-null  float64\n",
            " 9   Lat                98306 non-null  float64\n",
            " 10  Lon                98306 non-null  float64\n",
            "dtypes: float64(4), int64(3), object(4)\n",
            "memory usage: 8.3+ MB\n"
          ]
        }
      ],
      "source": [
        "#Exploración de campos y tipos de dato  del Data Set\n",
        "df_peajes.info()"
      ]
    },
    {
      "cell_type": "code",
      "execution_count": 5,
      "metadata": {
        "colab": {
          "base_uri": "https://localhost:8080/",
          "height": 320
        },
        "id": "uDM-ahcfkuXB",
        "outputId": "0c0d3b5a-5a69-4d81-9797-581673f1d2d9"
      },
      "outputs": [
        {
          "data": {
            "text/html": [
              "<div>\n",
              "<style scoped>\n",
              "    .dataframe tbody tr th:only-of-type {\n",
              "        vertical-align: middle;\n",
              "    }\n",
              "\n",
              "    .dataframe tbody tr th {\n",
              "        vertical-align: top;\n",
              "    }\n",
              "\n",
              "    .dataframe thead th {\n",
              "        text-align: right;\n",
              "    }\n",
              "</style>\n",
              "<table border=\"1\" class=\"dataframe\">\n",
              "  <thead>\n",
              "    <tr style=\"text-align: right;\">\n",
              "      <th></th>\n",
              "      <th>IdPeaje</th>\n",
              "      <th>ValorTarifa</th>\n",
              "      <th>Trafico</th>\n",
              "      <th>TraficoEvasores</th>\n",
              "      <th>TraficoExentos787</th>\n",
              "      <th>Lat</th>\n",
              "      <th>Lon</th>\n",
              "    </tr>\n",
              "  </thead>\n",
              "  <tbody>\n",
              "    <tr>\n",
              "      <th>count</th>\n",
              "      <td>98306.000000</td>\n",
              "      <td>98306.000000</td>\n",
              "      <td>9.830600e+04</td>\n",
              "      <td>96262.000000</td>\n",
              "      <td>96281.00000</td>\n",
              "      <td>98306.000000</td>\n",
              "      <td>98306.000000</td>\n",
              "    </tr>\n",
              "    <tr>\n",
              "      <th>mean</th>\n",
              "      <td>63.206935</td>\n",
              "      <td>17331.696946</td>\n",
              "      <td>1.969663e+04</td>\n",
              "      <td>0.280651</td>\n",
              "      <td>181.99516</td>\n",
              "      <td>-74.665655</td>\n",
              "      <td>6.455282</td>\n",
              "    </tr>\n",
              "    <tr>\n",
              "      <th>std</th>\n",
              "      <td>42.886432</td>\n",
              "      <td>16308.602101</td>\n",
              "      <td>5.480460e+04</td>\n",
              "      <td>22.252275</td>\n",
              "      <td>703.30744</td>\n",
              "      <td>1.101541</td>\n",
              "      <td>2.611600</td>\n",
              "    </tr>\n",
              "    <tr>\n",
              "      <th>min</th>\n",
              "      <td>1.000000</td>\n",
              "      <td>0.000000</td>\n",
              "      <td>0.000000e+00</td>\n",
              "      <td>0.000000</td>\n",
              "      <td>0.00000</td>\n",
              "      <td>-77.408562</td>\n",
              "      <td>1.087343</td>\n",
              "    </tr>\n",
              "    <tr>\n",
              "      <th>25%</th>\n",
              "      <td>27.000000</td>\n",
              "      <td>6900.000000</td>\n",
              "      <td>3.110000e+02</td>\n",
              "      <td>0.000000</td>\n",
              "      <td>0.00000</td>\n",
              "      <td>-75.594025</td>\n",
              "      <td>4.454152</td>\n",
              "    </tr>\n",
              "    <tr>\n",
              "      <th>50%</th>\n",
              "      <td>58.000000</td>\n",
              "      <td>11100.000000</td>\n",
              "      <td>3.657000e+03</td>\n",
              "      <td>0.000000</td>\n",
              "      <td>0.00000</td>\n",
              "      <td>-74.808983</td>\n",
              "      <td>5.391559</td>\n",
              "    </tr>\n",
              "    <tr>\n",
              "      <th>75%</th>\n",
              "      <td>91.000000</td>\n",
              "      <td>24500.000000</td>\n",
              "      <td>1.395400e+04</td>\n",
              "      <td>0.000000</td>\n",
              "      <td>31.00000</td>\n",
              "      <td>-73.834808</td>\n",
              "      <td>8.845198</td>\n",
              "    </tr>\n",
              "    <tr>\n",
              "      <th>max</th>\n",
              "      <td>185.000000</td>\n",
              "      <td>142700.000000</td>\n",
              "      <td>1.120843e+06</td>\n",
              "      <td>4006.000000</td>\n",
              "      <td>101300.00000</td>\n",
              "      <td>-72.090698</td>\n",
              "      <td>11.444818</td>\n",
              "    </tr>\n",
              "  </tbody>\n",
              "</table>\n",
              "</div>"
            ],
            "text/plain": [
              "            IdPeaje    ValorTarifa       Trafico  TraficoEvasores  \\\n",
              "count  98306.000000   98306.000000  9.830600e+04     96262.000000   \n",
              "mean      63.206935   17331.696946  1.969663e+04         0.280651   \n",
              "std       42.886432   16308.602101  5.480460e+04        22.252275   \n",
              "min        1.000000       0.000000  0.000000e+00         0.000000   \n",
              "25%       27.000000    6900.000000  3.110000e+02         0.000000   \n",
              "50%       58.000000   11100.000000  3.657000e+03         0.000000   \n",
              "75%       91.000000   24500.000000  1.395400e+04         0.000000   \n",
              "max      185.000000  142700.000000  1.120843e+06      4006.000000   \n",
              "\n",
              "       TraficoExentos787           Lat           Lon  \n",
              "count        96281.00000  98306.000000  98306.000000  \n",
              "mean           181.99516    -74.665655      6.455282  \n",
              "std            703.30744      1.101541      2.611600  \n",
              "min              0.00000    -77.408562      1.087343  \n",
              "25%              0.00000    -75.594025      4.454152  \n",
              "50%              0.00000    -74.808983      5.391559  \n",
              "75%             31.00000    -73.834808      8.845198  \n",
              "max         101300.00000    -72.090698     11.444818  "
            ]
          },
          "execution_count": 5,
          "metadata": {},
          "output_type": "execute_result"
        }
      ],
      "source": [
        "df_peajes.describe()"
      ]
    },
    {
      "cell_type": "markdown",
      "metadata": {
        "id": "H8zTXkeIkxUc"
      },
      "source": [
        "## Transformación de Datos"
      ]
    },
    {
      "cell_type": "code",
      "execution_count": 6,
      "metadata": {
        "id": "GhF4PvZOlLSS"
      },
      "outputs": [],
      "source": [
        "#Cambiando el tipo de dato a los campos de Fecha\n",
        "df_peajes[\"FechaDesde\"]=pd.to_datetime(df_peajes[\"FechaDesde\"])\n",
        "df_peajes[\"FechaHasta\"]=pd.to_datetime(df_peajes[\"FechaHasta\"])"
      ]
    },
    {
      "cell_type": "code",
      "execution_count": 7,
      "metadata": {
        "colab": {
          "base_uri": "https://localhost:8080/"
        },
        "id": "TQN4FN0tl8PF",
        "outputId": "0d212e1f-5c90-4261-e3b6-4c46c54e0952"
      },
      "outputs": [
        {
          "name": "stderr",
          "output_type": "stream",
          "text": [
            "\n",
            "A value is trying to be set on a copy of a slice from a DataFrame\n",
            "\n",
            "See the caveats in the documentation: https://pandas.pydata.org/pandas-docs/stable/user_guide/indexing.html#returning-a-view-versus-a-copy\n"
          ]
        },
        {
          "data": {
            "text/plain": [
              "(96262, 11)"
            ]
          },
          "execution_count": 7,
          "metadata": {},
          "output_type": "execute_result"
        }
      ],
      "source": [
        "#Eliminación de vacios\n",
        "df_peajeslimpio = df_peajes.dropna()\n",
        "\n",
        "#Verificación y eliminación de duplicados\n",
        "df_peajeslimpio.drop_duplicates(inplace=True)\n",
        "\n",
        "#Verificación de registros eliminados\n",
        "df_peajeslimpio.shape"
      ]
    },
    {
      "cell_type": "markdown",
      "metadata": {
        "id": "gnLr-eFUmF07"
      },
      "source": [
        "Antes habian 98306 registros y ahora hay 96262, lo que representa una perdida del 2.1%"
      ]
    },
    {
      "cell_type": "markdown",
      "metadata": {
        "id": "1ePaAv4hnBVp"
      },
      "source": [
        "### Transformando Categorías de tarifas a valores numéricos\n",
        "\n",
        "La categoría de los peajes en Colombia está dada por una etiqueta tipo *string*:"
      ]
    },
    {
      "cell_type": "code",
      "execution_count": 8,
      "metadata": {
        "colab": {
          "base_uri": "https://localhost:8080/"
        },
        "id": "dxO9A6QRmnEf",
        "outputId": "307a5fa8-5e60-48c0-9438-180cefbb685d"
      },
      "outputs": [
        {
          "name": "stdout",
          "output_type": "stream",
          "text": [
            "['I', 'II', 'III', 'IV', 'V', 'EA', 'EG', 'ER', 'IE', 'VI', 'VII', 'POLCA', 'IIE', 'IVE', 'IIIE', 'IEE', 'IEEE', 'VIII', 'IIA', 'IXE', 'IX', 'VE', 'VIE', 'VIIE', 'EC', 'VIIIE', 'IE10']\n"
          ]
        }
      ],
      "source": [
        "ctg = list(df_peajeslimpio[\"IdCategoriaTarifa\"].unique())\n",
        "print(ctg)"
      ]
    },
    {
      "cell_type": "markdown",
      "metadata": {
        "id": "x1yPB6UTt5wy"
      },
      "source": [
        "El modelo de regresión solo acepetará valores numéricos. Por lo anterior, se hace necesario asignar a cada categoría un valor entero."
      ]
    },
    {
      "cell_type": "code",
      "execution_count": 9,
      "metadata": {
        "colab": {
          "base_uri": "https://localhost:8080/"
        },
        "id": "hHUwLnZUzpVv",
        "outputId": "19f859ff-3689-4bb5-eb39-58fbfebbebca"
      },
      "outputs": [
        {
          "name": "stdout",
          "output_type": "stream",
          "text": [
            "{'I': 1, 'II': 2, 'III': 3, 'IV': 4, 'V': 5, 'EA': 6, 'EG': 7, 'ER': 8, 'IE': 9, 'VI': 10, 'VII': 11, 'POLCA': 12, 'IIE': 13, 'IVE': 14, 'IIIE': 15, 'IEE': 16, 'IEEE': 17, 'VIII': 18, 'IIA': 19, 'IXE': 20, 'IX': 21, 'VE': 22, 'VIE': 23, 'VIIE': 24, 'EC': 25, 'VIIIE': 26, 'IE10': 27}\n"
          ]
        }
      ],
      "source": [
        "#Creamos un diccionario que contendrá cada categoría con su valor numérico\n",
        "categorias = {}\n",
        "#Contador que resultará ser el valor numérico\n",
        "count = 1\n",
        "#Ciclo for que asigna a cada categoria de la lista ctg el valor numérico de count\n",
        "for i in ctg:\n",
        "  categorias[i] = count\n",
        "  count += 1\n",
        "#Imprimimos la salida y verificamos el resultado\n",
        "print(categorias)"
      ]
    },
    {
      "cell_type": "code",
      "execution_count": 10,
      "metadata": {
        "colab": {
          "base_uri": "https://localhost:8080/",
          "height": 226
        },
        "id": "ylIr4E_hAiSD",
        "outputId": "20246a8d-2db3-4dc8-f019-99c38a50dadb"
      },
      "outputs": [
        {
          "name": "stderr",
          "output_type": "stream",
          "text": [
            "\n",
            "A value is trying to be set on a copy of a slice from a DataFrame.\n",
            "Try using .loc[row_indexer,col_indexer] = value instead\n",
            "\n",
            "See the caveats in the documentation: https://pandas.pydata.org/pandas-docs/stable/user_guide/indexing.html#returning-a-view-versus-a-copy\n"
          ]
        },
        {
          "data": {
            "text/html": [
              "<div>\n",
              "<style scoped>\n",
              "    .dataframe tbody tr th:only-of-type {\n",
              "        vertical-align: middle;\n",
              "    }\n",
              "\n",
              "    .dataframe tbody tr th {\n",
              "        vertical-align: top;\n",
              "    }\n",
              "\n",
              "    .dataframe thead th {\n",
              "        text-align: right;\n",
              "    }\n",
              "</style>\n",
              "<table border=\"1\" class=\"dataframe\">\n",
              "  <thead>\n",
              "    <tr style=\"text-align: right;\">\n",
              "      <th></th>\n",
              "      <th>IdPeaje</th>\n",
              "      <th>Peaje</th>\n",
              "      <th>IdCategoriaTarifa</th>\n",
              "      <th>FechaDesde</th>\n",
              "      <th>FechaHasta</th>\n",
              "      <th>ValorTarifa</th>\n",
              "      <th>Trafico</th>\n",
              "      <th>TraficoEvasores</th>\n",
              "      <th>TraficoExentos787</th>\n",
              "      <th>Lat</th>\n",
              "      <th>Lon</th>\n",
              "      <th>IDC</th>\n",
              "    </tr>\n",
              "  </thead>\n",
              "  <tbody>\n",
              "    <tr>\n",
              "      <th>0</th>\n",
              "      <td>1</td>\n",
              "      <td>ALVARADO</td>\n",
              "      <td>I</td>\n",
              "      <td>2015-08-21</td>\n",
              "      <td>2015-08-31</td>\n",
              "      <td>7000</td>\n",
              "      <td>27730</td>\n",
              "      <td>0.0</td>\n",
              "      <td>660.0</td>\n",
              "      <td>-74.991661</td>\n",
              "      <td>4.507609</td>\n",
              "      <td>1</td>\n",
              "    </tr>\n",
              "    <tr>\n",
              "      <th>1</th>\n",
              "      <td>1</td>\n",
              "      <td>ALVARADO</td>\n",
              "      <td>II</td>\n",
              "      <td>2015-08-21</td>\n",
              "      <td>2015-08-31</td>\n",
              "      <td>7600</td>\n",
              "      <td>9930</td>\n",
              "      <td>0.0</td>\n",
              "      <td>70.0</td>\n",
              "      <td>-74.991661</td>\n",
              "      <td>4.507609</td>\n",
              "      <td>2</td>\n",
              "    </tr>\n",
              "    <tr>\n",
              "      <th>2</th>\n",
              "      <td>1</td>\n",
              "      <td>ALVARADO</td>\n",
              "      <td>III</td>\n",
              "      <td>2015-08-21</td>\n",
              "      <td>2015-08-31</td>\n",
              "      <td>16100</td>\n",
              "      <td>1277</td>\n",
              "      <td>0.0</td>\n",
              "      <td>0.0</td>\n",
              "      <td>-74.991661</td>\n",
              "      <td>4.507609</td>\n",
              "      <td>3</td>\n",
              "    </tr>\n",
              "    <tr>\n",
              "      <th>3</th>\n",
              "      <td>1</td>\n",
              "      <td>ALVARADO</td>\n",
              "      <td>IV</td>\n",
              "      <td>2015-08-21</td>\n",
              "      <td>2015-08-31</td>\n",
              "      <td>20400</td>\n",
              "      <td>2074</td>\n",
              "      <td>0.0</td>\n",
              "      <td>0.0</td>\n",
              "      <td>-74.991661</td>\n",
              "      <td>4.507609</td>\n",
              "      <td>4</td>\n",
              "    </tr>\n",
              "    <tr>\n",
              "      <th>4</th>\n",
              "      <td>1</td>\n",
              "      <td>ALVARADO</td>\n",
              "      <td>V</td>\n",
              "      <td>2015-08-21</td>\n",
              "      <td>2015-08-31</td>\n",
              "      <td>22900</td>\n",
              "      <td>4167</td>\n",
              "      <td>0.0</td>\n",
              "      <td>0.0</td>\n",
              "      <td>-74.991661</td>\n",
              "      <td>4.507609</td>\n",
              "      <td>5</td>\n",
              "    </tr>\n",
              "  </tbody>\n",
              "</table>\n",
              "</div>"
            ],
            "text/plain": [
              "   IdPeaje     Peaje IdCategoriaTarifa FechaDesde FechaHasta  ValorTarifa  \\\n",
              "0        1  ALVARADO                 I 2015-08-21 2015-08-31         7000   \n",
              "1        1  ALVARADO                II 2015-08-21 2015-08-31         7600   \n",
              "2        1  ALVARADO               III 2015-08-21 2015-08-31        16100   \n",
              "3        1  ALVARADO                IV 2015-08-21 2015-08-31        20400   \n",
              "4        1  ALVARADO                 V 2015-08-21 2015-08-31        22900   \n",
              "\n",
              "   Trafico  TraficoEvasores  TraficoExentos787        Lat       Lon  IDC  \n",
              "0    27730              0.0              660.0 -74.991661  4.507609    1  \n",
              "1     9930              0.0               70.0 -74.991661  4.507609    2  \n",
              "2     1277              0.0                0.0 -74.991661  4.507609    3  \n",
              "3     2074              0.0                0.0 -74.991661  4.507609    4  \n",
              "4     4167              0.0                0.0 -74.991661  4.507609    5  "
            ]
          },
          "execution_count": 10,
          "metadata": {},
          "output_type": "execute_result"
        }
      ],
      "source": [
        "#Creamos una nueva columna llamada IDC la cual es una copia de IdCategoriaTarifa\n",
        "df_peajeslimpio['IDC'] = df_peajeslimpio['IdCategoriaTarifa']\n",
        "#Reemplazamos en IDC cada categoria por su valor numérico\n",
        "df_peajeslimpio = df_peajeslimpio.replace({'IDC':categorias})\n",
        "#Mostramos y verificamos el resultado\n",
        "df_peajeslimpio.head()"
      ]
    },
    {
      "cell_type": "markdown",
      "metadata": {},
      "source": [
        "Se desea en un posterior trabajo, crear un mapa de Colombia con Geopandas ubicando la intensidad de tráfico en cada peaje del territorio nacional, por esto, se transforma el DataFrame de Pandas a Geopandas con el fin de manipular la Latitud y Longitud en formato Geometry."
      ]
    },
    {
      "cell_type": "code",
      "execution_count": 11,
      "metadata": {
        "colab": {
          "base_uri": "https://localhost:8080/",
          "height": 827
        },
        "id": "60Z8B7ooo-xa",
        "outputId": "fcc63483-6b31-432b-8bb5-cfd1ff9d293c"
      },
      "outputs": [
        {
          "name": "stderr",
          "output_type": "stream",
          "text": [
            "'+init=<authority>:<code>' syntax is deprecated. '<authority>:<code>' is the preferred initialization method. When making the change, be mindful of axis order changes: https://pyproj4.github.io/pyproj/stable/gotchas.html#axis-order-changes-in-proj-6\n"
          ]
        },
        {
          "data": {
            "text/html": [
              "<div>\n",
              "<style scoped>\n",
              "    .dataframe tbody tr th:only-of-type {\n",
              "        vertical-align: middle;\n",
              "    }\n",
              "\n",
              "    .dataframe tbody tr th {\n",
              "        vertical-align: top;\n",
              "    }\n",
              "\n",
              "    .dataframe thead th {\n",
              "        text-align: right;\n",
              "    }\n",
              "</style>\n",
              "<table border=\"1\" class=\"dataframe\">\n",
              "  <thead>\n",
              "    <tr style=\"text-align: right;\">\n",
              "      <th></th>\n",
              "      <th>IdPeaje</th>\n",
              "      <th>Peaje</th>\n",
              "      <th>IdCategoriaTarifa</th>\n",
              "      <th>FechaDesde</th>\n",
              "      <th>FechaHasta</th>\n",
              "      <th>ValorTarifa</th>\n",
              "      <th>Trafico</th>\n",
              "      <th>TraficoEvasores</th>\n",
              "      <th>TraficoExentos787</th>\n",
              "      <th>Lat</th>\n",
              "      <th>Lon</th>\n",
              "      <th>IDC</th>\n",
              "      <th>geometry</th>\n",
              "    </tr>\n",
              "  </thead>\n",
              "  <tbody>\n",
              "    <tr>\n",
              "      <th>0</th>\n",
              "      <td>1</td>\n",
              "      <td>ALVARADO</td>\n",
              "      <td>I</td>\n",
              "      <td>2015-08-21</td>\n",
              "      <td>2015-08-31</td>\n",
              "      <td>7000</td>\n",
              "      <td>27730</td>\n",
              "      <td>0.0</td>\n",
              "      <td>660.0</td>\n",
              "      <td>-74.991661</td>\n",
              "      <td>4.507609</td>\n",
              "      <td>1</td>\n",
              "      <td>POINT (4.50761 -74.99166)</td>\n",
              "    </tr>\n",
              "    <tr>\n",
              "      <th>1</th>\n",
              "      <td>1</td>\n",
              "      <td>ALVARADO</td>\n",
              "      <td>II</td>\n",
              "      <td>2015-08-21</td>\n",
              "      <td>2015-08-31</td>\n",
              "      <td>7600</td>\n",
              "      <td>9930</td>\n",
              "      <td>0.0</td>\n",
              "      <td>70.0</td>\n",
              "      <td>-74.991661</td>\n",
              "      <td>4.507609</td>\n",
              "      <td>2</td>\n",
              "      <td>POINT (4.50761 -74.99166)</td>\n",
              "    </tr>\n",
              "    <tr>\n",
              "      <th>2</th>\n",
              "      <td>1</td>\n",
              "      <td>ALVARADO</td>\n",
              "      <td>III</td>\n",
              "      <td>2015-08-21</td>\n",
              "      <td>2015-08-31</td>\n",
              "      <td>16100</td>\n",
              "      <td>1277</td>\n",
              "      <td>0.0</td>\n",
              "      <td>0.0</td>\n",
              "      <td>-74.991661</td>\n",
              "      <td>4.507609</td>\n",
              "      <td>3</td>\n",
              "      <td>POINT (4.50761 -74.99166)</td>\n",
              "    </tr>\n",
              "    <tr>\n",
              "      <th>3</th>\n",
              "      <td>1</td>\n",
              "      <td>ALVARADO</td>\n",
              "      <td>IV</td>\n",
              "      <td>2015-08-21</td>\n",
              "      <td>2015-08-31</td>\n",
              "      <td>20400</td>\n",
              "      <td>2074</td>\n",
              "      <td>0.0</td>\n",
              "      <td>0.0</td>\n",
              "      <td>-74.991661</td>\n",
              "      <td>4.507609</td>\n",
              "      <td>4</td>\n",
              "      <td>POINT (4.50761 -74.99166)</td>\n",
              "    </tr>\n",
              "    <tr>\n",
              "      <th>4</th>\n",
              "      <td>1</td>\n",
              "      <td>ALVARADO</td>\n",
              "      <td>V</td>\n",
              "      <td>2015-08-21</td>\n",
              "      <td>2015-08-31</td>\n",
              "      <td>22900</td>\n",
              "      <td>4167</td>\n",
              "      <td>0.0</td>\n",
              "      <td>0.0</td>\n",
              "      <td>-74.991661</td>\n",
              "      <td>4.507609</td>\n",
              "      <td>5</td>\n",
              "      <td>POINT (4.50761 -74.99166)</td>\n",
              "    </tr>\n",
              "  </tbody>\n",
              "</table>\n",
              "</div>"
            ],
            "text/plain": [
              "   IdPeaje     Peaje IdCategoriaTarifa FechaDesde FechaHasta  ValorTarifa  \\\n",
              "0        1  ALVARADO                 I 2015-08-21 2015-08-31         7000   \n",
              "1        1  ALVARADO                II 2015-08-21 2015-08-31         7600   \n",
              "2        1  ALVARADO               III 2015-08-21 2015-08-31        16100   \n",
              "3        1  ALVARADO                IV 2015-08-21 2015-08-31        20400   \n",
              "4        1  ALVARADO                 V 2015-08-21 2015-08-31        22900   \n",
              "\n",
              "   Trafico  TraficoEvasores  TraficoExentos787        Lat       Lon  IDC  \\\n",
              "0    27730              0.0              660.0 -74.991661  4.507609    1   \n",
              "1     9930              0.0               70.0 -74.991661  4.507609    2   \n",
              "2     1277              0.0                0.0 -74.991661  4.507609    3   \n",
              "3     2074              0.0                0.0 -74.991661  4.507609    4   \n",
              "4     4167              0.0                0.0 -74.991661  4.507609    5   \n",
              "\n",
              "                    geometry  \n",
              "0  POINT (4.50761 -74.99166)  \n",
              "1  POINT (4.50761 -74.99166)  \n",
              "2  POINT (4.50761 -74.99166)  \n",
              "3  POINT (4.50761 -74.99166)  \n",
              "4  POINT (4.50761 -74.99166)  "
            ]
          },
          "execution_count": 11,
          "metadata": {},
          "output_type": "execute_result"
        }
      ],
      "source": [
        "# creating a geometry column\n",
        "geometry = [Point(xy) for xy in zip(df_peajeslimpio['Lon'], df_peajeslimpio['Lat'])]\n",
        "\n",
        "# Coordinate reference system : WGS84\n",
        "crs = {'init': 'epsg:4326'}\n",
        "\n",
        "# Creating a Geographic data frame\n",
        "gdf_peajes = gpd.GeoDataFrame(df_peajeslimpio, crs=crs, geometry=geometry)\n",
        "\n",
        "gdf_peajes.head()"
      ]
    },
    {
      "cell_type": "code",
      "execution_count": 12,
      "metadata": {
        "colab": {
          "base_uri": "https://localhost:8080/",
          "height": 300
        },
        "id": "saHovBFN3Jx3",
        "outputId": "d9c8994c-deb8-44b7-a412-622bfc3953dc"
      },
      "outputs": [
        {
          "data": {
            "text/html": [
              "<div>\n",
              "<style scoped>\n",
              "    .dataframe tbody tr th:only-of-type {\n",
              "        vertical-align: middle;\n",
              "    }\n",
              "\n",
              "    .dataframe tbody tr th {\n",
              "        vertical-align: top;\n",
              "    }\n",
              "\n",
              "    .dataframe thead th {\n",
              "        text-align: right;\n",
              "    }\n",
              "</style>\n",
              "<table border=\"1\" class=\"dataframe\">\n",
              "  <thead>\n",
              "    <tr style=\"text-align: right;\">\n",
              "      <th></th>\n",
              "      <th>IdPeaje</th>\n",
              "      <th>ValorTarifa</th>\n",
              "      <th>Trafico</th>\n",
              "      <th>TraficoEvasores</th>\n",
              "      <th>TraficoExentos787</th>\n",
              "      <th>Lat</th>\n",
              "      <th>Lon</th>\n",
              "      <th>IDC</th>\n",
              "    </tr>\n",
              "  </thead>\n",
              "  <tbody>\n",
              "    <tr>\n",
              "      <th>count</th>\n",
              "      <td>96262.000000</td>\n",
              "      <td>96262.000000</td>\n",
              "      <td>9.626200e+04</td>\n",
              "      <td>96262.000000</td>\n",
              "      <td>96262.000000</td>\n",
              "      <td>96262.000000</td>\n",
              "      <td>96262.000000</td>\n",
              "      <td>96262.000000</td>\n",
              "    </tr>\n",
              "    <tr>\n",
              "      <th>mean</th>\n",
              "      <td>63.096746</td>\n",
              "      <td>17575.499159</td>\n",
              "      <td>1.998957e+04</td>\n",
              "      <td>0.280651</td>\n",
              "      <td>181.806601</td>\n",
              "      <td>-74.662903</td>\n",
              "      <td>6.449551</td>\n",
              "      <td>5.993663</td>\n",
              "    </tr>\n",
              "    <tr>\n",
              "      <th>std</th>\n",
              "      <td>42.751945</td>\n",
              "      <td>16373.414563</td>\n",
              "      <td>5.516177e+04</td>\n",
              "      <td>22.252275</td>\n",
              "      <td>702.877139</td>\n",
              "      <td>1.102927</td>\n",
              "      <td>2.612843</td>\n",
              "      <td>4.425453</td>\n",
              "    </tr>\n",
              "    <tr>\n",
              "      <th>min</th>\n",
              "      <td>1.000000</td>\n",
              "      <td>0.000000</td>\n",
              "      <td>0.000000e+00</td>\n",
              "      <td>0.000000</td>\n",
              "      <td>0.000000</td>\n",
              "      <td>-77.408562</td>\n",
              "      <td>1.087343</td>\n",
              "      <td>1.000000</td>\n",
              "    </tr>\n",
              "    <tr>\n",
              "      <th>25%</th>\n",
              "      <td>27.000000</td>\n",
              "      <td>7100.000000</td>\n",
              "      <td>3.290000e+02</td>\n",
              "      <td>0.000000</td>\n",
              "      <td>0.000000</td>\n",
              "      <td>-75.594025</td>\n",
              "      <td>4.452599</td>\n",
              "      <td>3.000000</td>\n",
              "    </tr>\n",
              "    <tr>\n",
              "      <th>50%</th>\n",
              "      <td>58.000000</td>\n",
              "      <td>11300.000000</td>\n",
              "      <td>3.799000e+03</td>\n",
              "      <td>0.000000</td>\n",
              "      <td>0.000000</td>\n",
              "      <td>-74.808983</td>\n",
              "      <td>5.391559</td>\n",
              "      <td>5.000000</td>\n",
              "    </tr>\n",
              "    <tr>\n",
              "      <th>75%</th>\n",
              "      <td>91.000000</td>\n",
              "      <td>24900.000000</td>\n",
              "      <td>1.425600e+04</td>\n",
              "      <td>0.000000</td>\n",
              "      <td>31.000000</td>\n",
              "      <td>-73.834808</td>\n",
              "      <td>8.845198</td>\n",
              "      <td>9.000000</td>\n",
              "    </tr>\n",
              "    <tr>\n",
              "      <th>max</th>\n",
              "      <td>185.000000</td>\n",
              "      <td>142700.000000</td>\n",
              "      <td>1.120843e+06</td>\n",
              "      <td>4006.000000</td>\n",
              "      <td>101300.000000</td>\n",
              "      <td>-72.090698</td>\n",
              "      <td>11.444818</td>\n",
              "      <td>27.000000</td>\n",
              "    </tr>\n",
              "  </tbody>\n",
              "</table>\n",
              "</div>"
            ],
            "text/plain": [
              "            IdPeaje    ValorTarifa       Trafico  TraficoEvasores  \\\n",
              "count  96262.000000   96262.000000  9.626200e+04     96262.000000   \n",
              "mean      63.096746   17575.499159  1.998957e+04         0.280651   \n",
              "std       42.751945   16373.414563  5.516177e+04        22.252275   \n",
              "min        1.000000       0.000000  0.000000e+00         0.000000   \n",
              "25%       27.000000    7100.000000  3.290000e+02         0.000000   \n",
              "50%       58.000000   11300.000000  3.799000e+03         0.000000   \n",
              "75%       91.000000   24900.000000  1.425600e+04         0.000000   \n",
              "max      185.000000  142700.000000  1.120843e+06      4006.000000   \n",
              "\n",
              "       TraficoExentos787           Lat           Lon           IDC  \n",
              "count       96262.000000  96262.000000  96262.000000  96262.000000  \n",
              "mean          181.806601    -74.662903      6.449551      5.993663  \n",
              "std           702.877139      1.102927      2.612843      4.425453  \n",
              "min             0.000000    -77.408562      1.087343      1.000000  \n",
              "25%             0.000000    -75.594025      4.452599      3.000000  \n",
              "50%             0.000000    -74.808983      5.391559      5.000000  \n",
              "75%            31.000000    -73.834808      8.845198      9.000000  \n",
              "max        101300.000000    -72.090698     11.444818     27.000000  "
            ]
          },
          "execution_count": 12,
          "metadata": {},
          "output_type": "execute_result"
        }
      ],
      "source": [
        "gdf_peajes.describe()"
      ]
    },
    {
      "cell_type": "markdown",
      "metadata": {
        "id": "9X_uZSBMnnkI"
      },
      "source": [
        "### Transformar fechas a digitos separados: Año, Mes, Día\n",
        "\n",
        "Esto es importante porque nos permitirá analizar el tráfico por cada una de estas categorías."
      ]
    },
    {
      "cell_type": "code",
      "execution_count": 13,
      "metadata": {
        "colab": {
          "base_uri": "https://localhost:8080/"
        },
        "id": "xwgB8GYopfSz",
        "outputId": "ff34c54f-0899-4aa4-ebf4-be401fa87f3f"
      },
      "outputs": [
        {
          "data": {
            "text/plain": [
              "0       2015-08-21\n",
              "1       2015-08-21\n",
              "2       2015-08-21\n",
              "3       2015-08-21\n",
              "4       2015-08-21\n",
              "           ...    \n",
              "98299   2022-02-01\n",
              "98300   2022-02-01\n",
              "98301   2022-02-01\n",
              "98302   2022-02-01\n",
              "98303   2022-02-01\n",
              "Name: FechaDesde, Length: 96262, dtype: datetime64[ns]"
            ]
          },
          "execution_count": 13,
          "metadata": {},
          "output_type": "execute_result"
        }
      ],
      "source": [
        "gdf_peajes['FechaDesde']"
      ]
    },
    {
      "cell_type": "code",
      "execution_count": 14,
      "metadata": {
        "colab": {
          "base_uri": "https://localhost:8080/",
          "height": 790
        },
        "id": "4ly4MRi4nmme",
        "outputId": "c9b123ce-f5c7-48e0-e547-5b5ee1aae008"
      },
      "outputs": [
        {
          "data": {
            "text/html": [
              "<div>\n",
              "<style scoped>\n",
              "    .dataframe tbody tr th:only-of-type {\n",
              "        vertical-align: middle;\n",
              "    }\n",
              "\n",
              "    .dataframe tbody tr th {\n",
              "        vertical-align: top;\n",
              "    }\n",
              "\n",
              "    .dataframe thead th {\n",
              "        text-align: right;\n",
              "    }\n",
              "</style>\n",
              "<table border=\"1\" class=\"dataframe\">\n",
              "  <thead>\n",
              "    <tr style=\"text-align: right;\">\n",
              "      <th></th>\n",
              "      <th>IdPeaje</th>\n",
              "      <th>Peaje</th>\n",
              "      <th>IdCategoriaTarifa</th>\n",
              "      <th>FechaDesde</th>\n",
              "      <th>FechaHasta</th>\n",
              "      <th>ValorTarifa</th>\n",
              "      <th>Trafico</th>\n",
              "      <th>TraficoEvasores</th>\n",
              "      <th>TraficoExentos787</th>\n",
              "      <th>Lat</th>\n",
              "      <th>Lon</th>\n",
              "      <th>IDC</th>\n",
              "      <th>geometry</th>\n",
              "      <th>Year</th>\n",
              "      <th>Month</th>\n",
              "      <th>Day</th>\n",
              "    </tr>\n",
              "  </thead>\n",
              "  <tbody>\n",
              "    <tr>\n",
              "      <th>0</th>\n",
              "      <td>1</td>\n",
              "      <td>ALVARADO</td>\n",
              "      <td>I</td>\n",
              "      <td>2015-08-21</td>\n",
              "      <td>2015-08-31</td>\n",
              "      <td>7000</td>\n",
              "      <td>27730</td>\n",
              "      <td>0.0</td>\n",
              "      <td>660.0</td>\n",
              "      <td>-74.991661</td>\n",
              "      <td>4.507609</td>\n",
              "      <td>1</td>\n",
              "      <td>POINT (4.50761 -74.99166)</td>\n",
              "      <td>2015</td>\n",
              "      <td>8</td>\n",
              "      <td>21</td>\n",
              "    </tr>\n",
              "    <tr>\n",
              "      <th>1</th>\n",
              "      <td>1</td>\n",
              "      <td>ALVARADO</td>\n",
              "      <td>II</td>\n",
              "      <td>2015-08-21</td>\n",
              "      <td>2015-08-31</td>\n",
              "      <td>7600</td>\n",
              "      <td>9930</td>\n",
              "      <td>0.0</td>\n",
              "      <td>70.0</td>\n",
              "      <td>-74.991661</td>\n",
              "      <td>4.507609</td>\n",
              "      <td>2</td>\n",
              "      <td>POINT (4.50761 -74.99166)</td>\n",
              "      <td>2015</td>\n",
              "      <td>8</td>\n",
              "      <td>21</td>\n",
              "    </tr>\n",
              "    <tr>\n",
              "      <th>2</th>\n",
              "      <td>1</td>\n",
              "      <td>ALVARADO</td>\n",
              "      <td>III</td>\n",
              "      <td>2015-08-21</td>\n",
              "      <td>2015-08-31</td>\n",
              "      <td>16100</td>\n",
              "      <td>1277</td>\n",
              "      <td>0.0</td>\n",
              "      <td>0.0</td>\n",
              "      <td>-74.991661</td>\n",
              "      <td>4.507609</td>\n",
              "      <td>3</td>\n",
              "      <td>POINT (4.50761 -74.99166)</td>\n",
              "      <td>2015</td>\n",
              "      <td>8</td>\n",
              "      <td>21</td>\n",
              "    </tr>\n",
              "    <tr>\n",
              "      <th>3</th>\n",
              "      <td>1</td>\n",
              "      <td>ALVARADO</td>\n",
              "      <td>IV</td>\n",
              "      <td>2015-08-21</td>\n",
              "      <td>2015-08-31</td>\n",
              "      <td>20400</td>\n",
              "      <td>2074</td>\n",
              "      <td>0.0</td>\n",
              "      <td>0.0</td>\n",
              "      <td>-74.991661</td>\n",
              "      <td>4.507609</td>\n",
              "      <td>4</td>\n",
              "      <td>POINT (4.50761 -74.99166)</td>\n",
              "      <td>2015</td>\n",
              "      <td>8</td>\n",
              "      <td>21</td>\n",
              "    </tr>\n",
              "    <tr>\n",
              "      <th>4</th>\n",
              "      <td>1</td>\n",
              "      <td>ALVARADO</td>\n",
              "      <td>V</td>\n",
              "      <td>2015-08-21</td>\n",
              "      <td>2015-08-31</td>\n",
              "      <td>22900</td>\n",
              "      <td>4167</td>\n",
              "      <td>0.0</td>\n",
              "      <td>0.0</td>\n",
              "      <td>-74.991661</td>\n",
              "      <td>4.507609</td>\n",
              "      <td>5</td>\n",
              "      <td>POINT (4.50761 -74.99166)</td>\n",
              "      <td>2015</td>\n",
              "      <td>8</td>\n",
              "      <td>21</td>\n",
              "    </tr>\n",
              "  </tbody>\n",
              "</table>\n",
              "</div>"
            ],
            "text/plain": [
              "   IdPeaje     Peaje IdCategoriaTarifa FechaDesde FechaHasta  ValorTarifa  \\\n",
              "0        1  ALVARADO                 I 2015-08-21 2015-08-31         7000   \n",
              "1        1  ALVARADO                II 2015-08-21 2015-08-31         7600   \n",
              "2        1  ALVARADO               III 2015-08-21 2015-08-31        16100   \n",
              "3        1  ALVARADO                IV 2015-08-21 2015-08-31        20400   \n",
              "4        1  ALVARADO                 V 2015-08-21 2015-08-31        22900   \n",
              "\n",
              "   Trafico  TraficoEvasores  TraficoExentos787        Lat       Lon  IDC  \\\n",
              "0    27730              0.0              660.0 -74.991661  4.507609    1   \n",
              "1     9930              0.0               70.0 -74.991661  4.507609    2   \n",
              "2     1277              0.0                0.0 -74.991661  4.507609    3   \n",
              "3     2074              0.0                0.0 -74.991661  4.507609    4   \n",
              "4     4167              0.0                0.0 -74.991661  4.507609    5   \n",
              "\n",
              "                    geometry  Year  Month  Day  \n",
              "0  POINT (4.50761 -74.99166)  2015      8   21  \n",
              "1  POINT (4.50761 -74.99166)  2015      8   21  \n",
              "2  POINT (4.50761 -74.99166)  2015      8   21  \n",
              "3  POINT (4.50761 -74.99166)  2015      8   21  \n",
              "4  POINT (4.50761 -74.99166)  2015      8   21  "
            ]
          },
          "execution_count": 14,
          "metadata": {},
          "output_type": "execute_result"
        }
      ],
      "source": [
        "# Convert datetime values into numerical features\n",
        "gdf_peajes['Year'] = gdf_peajes.FechaDesde.dt.year\n",
        "gdf_peajes['Month'] = gdf_peajes.FechaDesde.dt.month\n",
        "gdf_peajes['Day'] = gdf_peajes.FechaDesde.dt.day\n",
        "# Corresponding target values\n",
        "gdf_peajes.head()"
      ]
    },
    {
      "cell_type": "markdown",
      "metadata": {
        "id": "dGFVUbi-5ErW"
      },
      "source": [
        "## Modelo: RandomForestRegressor de Sklearn\n",
        "### Estructura datos entrenamiento y validación\n",
        "80% para entrenar\n",
        "20% para validar"
      ]
    },
    {
      "cell_type": "code",
      "execution_count": 15,
      "metadata": {
        "colab": {
          "base_uri": "https://localhost:8080/",
          "height": 206
        },
        "id": "aX9-0t2Q2pUT",
        "outputId": "ecde5287-6821-4048-a766-11b6efb6e07d"
      },
      "outputs": [
        {
          "data": {
            "text/html": [
              "<div>\n",
              "<style scoped>\n",
              "    .dataframe tbody tr th:only-of-type {\n",
              "        vertical-align: middle;\n",
              "    }\n",
              "\n",
              "    .dataframe tbody tr th {\n",
              "        vertical-align: top;\n",
              "    }\n",
              "\n",
              "    .dataframe thead th {\n",
              "        text-align: right;\n",
              "    }\n",
              "</style>\n",
              "<table border=\"1\" class=\"dataframe\">\n",
              "  <thead>\n",
              "    <tr style=\"text-align: right;\">\n",
              "      <th></th>\n",
              "      <th>IdPeaje</th>\n",
              "      <th>IDC</th>\n",
              "      <th>Year</th>\n",
              "      <th>Month</th>\n",
              "      <th>Day</th>\n",
              "      <th>ValorTarifa</th>\n",
              "    </tr>\n",
              "  </thead>\n",
              "  <tbody>\n",
              "    <tr>\n",
              "      <th>25081</th>\n",
              "      <td>28</td>\n",
              "      <td>11</td>\n",
              "      <td>2019</td>\n",
              "      <td>1</td>\n",
              "      <td>16</td>\n",
              "      <td>61800</td>\n",
              "    </tr>\n",
              "    <tr>\n",
              "      <th>65863</th>\n",
              "      <td>80</td>\n",
              "      <td>3</td>\n",
              "      <td>2021</td>\n",
              "      <td>2</td>\n",
              "      <td>1</td>\n",
              "      <td>16100</td>\n",
              "    </tr>\n",
              "    <tr>\n",
              "      <th>21791</th>\n",
              "      <td>24</td>\n",
              "      <td>9</td>\n",
              "      <td>2019</td>\n",
              "      <td>7</td>\n",
              "      <td>1</td>\n",
              "      <td>3900</td>\n",
              "    </tr>\n",
              "    <tr>\n",
              "      <th>79754</th>\n",
              "      <td>99</td>\n",
              "      <td>3</td>\n",
              "      <td>2016</td>\n",
              "      <td>2</td>\n",
              "      <td>1</td>\n",
              "      <td>17900</td>\n",
              "    </tr>\n",
              "    <tr>\n",
              "      <th>30920</th>\n",
              "      <td>36</td>\n",
              "      <td>3</td>\n",
              "      <td>2015</td>\n",
              "      <td>2</td>\n",
              "      <td>1</td>\n",
              "      <td>15800</td>\n",
              "    </tr>\n",
              "  </tbody>\n",
              "</table>\n",
              "</div>"
            ],
            "text/plain": [
              "       IdPeaje  IDC  Year  Month  Day  ValorTarifa\n",
              "25081       28   11  2019      1   16        61800\n",
              "65863       80    3  2021      2    1        16100\n",
              "21791       24    9  2019      7    1         3900\n",
              "79754       99    3  2016      2    1        17900\n",
              "30920       36    3  2015      2    1        15800"
            ]
          },
          "execution_count": 15,
          "metadata": {},
          "output_type": "execute_result"
        }
      ],
      "source": [
        "X = gdf_peajes[['IdPeaje','IDC','Year','Month','Day','ValorTarifa']]\n",
        "y = gdf_peajes['Trafico']\n",
        "\n",
        "X_train, X_test, y_train, y_test = train_test_split(X, y, test_size=0.2, random_state=42)\n",
        "X_train.head()"
      ]
    },
    {
      "cell_type": "code",
      "execution_count": 16,
      "metadata": {
        "colab": {
          "base_uri": "https://localhost:8080/"
        },
        "id": "6wH-51VmVeEr",
        "outputId": "2e564361-d615-4b7a-f6c7-72ebd07cb7a4"
      },
      "outputs": [
        {
          "data": {
            "text/plain": [
              "25081     7997\n",
              "65863    14375\n",
              "21791     1528\n",
              "79754     6451\n",
              "30920     6857\n",
              "Name: Trafico, dtype: int64"
            ]
          },
          "execution_count": 16,
          "metadata": {},
          "output_type": "execute_result"
        }
      ],
      "source": [
        "y_train.head()"
      ]
    },
    {
      "cell_type": "markdown",
      "metadata": {},
      "source": [
        "### Entrenamiento del Modelo"
      ]
    },
    {
      "cell_type": "code",
      "execution_count": 17,
      "metadata": {
        "colab": {
          "base_uri": "https://localhost:8080/"
        },
        "id": "SVgegFxBWFDb",
        "outputId": "ed6bc13c-86a0-4ecf-b1bd-40f0b4134dcd"
      },
      "outputs": [
        {
          "data": {
            "text/html": [
              "<style>#sk-container-id-1 {\n",
              "  /* Definition of color scheme common for light and dark mode */\n",
              "  --sklearn-color-text: black;\n",
              "  --sklearn-color-line: gray;\n",
              "  /* Definition of color scheme for unfitted estimators */\n",
              "  --sklearn-color-unfitted-level-0: #fff5e6;\n",
              "  --sklearn-color-unfitted-level-1: #f6e4d2;\n",
              "  --sklearn-color-unfitted-level-2: #ffe0b3;\n",
              "  --sklearn-color-unfitted-level-3: chocolate;\n",
              "  /* Definition of color scheme for fitted estimators */\n",
              "  --sklearn-color-fitted-level-0: #f0f8ff;\n",
              "  --sklearn-color-fitted-level-1: #d4ebff;\n",
              "  --sklearn-color-fitted-level-2: #b3dbfd;\n",
              "  --sklearn-color-fitted-level-3: cornflowerblue;\n",
              "\n",
              "  /* Specific color for light theme */\n",
              "  --sklearn-color-text-on-default-background: var(--sg-text-color, var(--theme-code-foreground, var(--jp-content-font-color1, black)));\n",
              "  --sklearn-color-background: var(--sg-background-color, var(--theme-background, var(--jp-layout-color0, white)));\n",
              "  --sklearn-color-border-box: var(--sg-text-color, var(--theme-code-foreground, var(--jp-content-font-color1, black)));\n",
              "  --sklearn-color-icon: #696969;\n",
              "\n",
              "  @media (prefers-color-scheme: dark) {\n",
              "    /* Redefinition of color scheme for dark theme */\n",
              "    --sklearn-color-text-on-default-background: var(--sg-text-color, var(--theme-code-foreground, var(--jp-content-font-color1, white)));\n",
              "    --sklearn-color-background: var(--sg-background-color, var(--theme-background, var(--jp-layout-color0, #111)));\n",
              "    --sklearn-color-border-box: var(--sg-text-color, var(--theme-code-foreground, var(--jp-content-font-color1, white)));\n",
              "    --sklearn-color-icon: #878787;\n",
              "  }\n",
              "}\n",
              "\n",
              "#sk-container-id-1 {\n",
              "  color: var(--sklearn-color-text);\n",
              "}\n",
              "\n",
              "#sk-container-id-1 pre {\n",
              "  padding: 0;\n",
              "}\n",
              "\n",
              "#sk-container-id-1 input.sk-hidden--visually {\n",
              "  border: 0;\n",
              "  clip: rect(1px 1px 1px 1px);\n",
              "  clip: rect(1px, 1px, 1px, 1px);\n",
              "  height: 1px;\n",
              "  margin: -1px;\n",
              "  overflow: hidden;\n",
              "  padding: 0;\n",
              "  position: absolute;\n",
              "  width: 1px;\n",
              "}\n",
              "\n",
              "#sk-container-id-1 div.sk-dashed-wrapped {\n",
              "  border: 1px dashed var(--sklearn-color-line);\n",
              "  margin: 0 0.4em 0.5em 0.4em;\n",
              "  box-sizing: border-box;\n",
              "  padding-bottom: 0.4em;\n",
              "  background-color: var(--sklearn-color-background);\n",
              "}\n",
              "\n",
              "#sk-container-id-1 div.sk-container {\n",
              "  /* jupyter's `normalize.less` sets `[hidden] { display: none; }`\n",
              "     but bootstrap.min.css set `[hidden] { display: none !important; }`\n",
              "     so we also need the `!important` here to be able to override the\n",
              "     default hidden behavior on the sphinx rendered scikit-learn.org.\n",
              "     See: https://github.com/scikit-learn/scikit-learn/issues/21755 */\n",
              "  display: inline-block !important;\n",
              "  position: relative;\n",
              "}\n",
              "\n",
              "#sk-container-id-1 div.sk-text-repr-fallback {\n",
              "  display: none;\n",
              "}\n",
              "\n",
              "div.sk-parallel-item,\n",
              "div.sk-serial,\n",
              "div.sk-item {\n",
              "  /* draw centered vertical line to link estimators */\n",
              "  background-image: linear-gradient(var(--sklearn-color-text-on-default-background), var(--sklearn-color-text-on-default-background));\n",
              "  background-size: 2px 100%;\n",
              "  background-repeat: no-repeat;\n",
              "  background-position: center center;\n",
              "}\n",
              "\n",
              "/* Parallel-specific style estimator block */\n",
              "\n",
              "#sk-container-id-1 div.sk-parallel-item::after {\n",
              "  content: \"\";\n",
              "  width: 100%;\n",
              "  border-bottom: 2px solid var(--sklearn-color-text-on-default-background);\n",
              "  flex-grow: 1;\n",
              "}\n",
              "\n",
              "#sk-container-id-1 div.sk-parallel {\n",
              "  display: flex;\n",
              "  align-items: stretch;\n",
              "  justify-content: center;\n",
              "  background-color: var(--sklearn-color-background);\n",
              "  position: relative;\n",
              "}\n",
              "\n",
              "#sk-container-id-1 div.sk-parallel-item {\n",
              "  display: flex;\n",
              "  flex-direction: column;\n",
              "}\n",
              "\n",
              "#sk-container-id-1 div.sk-parallel-item:first-child::after {\n",
              "  align-self: flex-end;\n",
              "  width: 50%;\n",
              "}\n",
              "\n",
              "#sk-container-id-1 div.sk-parallel-item:last-child::after {\n",
              "  align-self: flex-start;\n",
              "  width: 50%;\n",
              "}\n",
              "\n",
              "#sk-container-id-1 div.sk-parallel-item:only-child::after {\n",
              "  width: 0;\n",
              "}\n",
              "\n",
              "/* Serial-specific style estimator block */\n",
              "\n",
              "#sk-container-id-1 div.sk-serial {\n",
              "  display: flex;\n",
              "  flex-direction: column;\n",
              "  align-items: center;\n",
              "  background-color: var(--sklearn-color-background);\n",
              "  padding-right: 1em;\n",
              "  padding-left: 1em;\n",
              "}\n",
              "\n",
              "\n",
              "/* Toggleable style: style used for estimator/Pipeline/ColumnTransformer box that is\n",
              "clickable and can be expanded/collapsed.\n",
              "- Pipeline and ColumnTransformer use this feature and define the default style\n",
              "- Estimators will overwrite some part of the style using the `sk-estimator` class\n",
              "*/\n",
              "\n",
              "/* Pipeline and ColumnTransformer style (default) */\n",
              "\n",
              "#sk-container-id-1 div.sk-toggleable {\n",
              "  /* Default theme specific background. It is overwritten whether we have a\n",
              "  specific estimator or a Pipeline/ColumnTransformer */\n",
              "  background-color: var(--sklearn-color-background);\n",
              "}\n",
              "\n",
              "/* Toggleable label */\n",
              "#sk-container-id-1 label.sk-toggleable__label {\n",
              "  cursor: pointer;\n",
              "  display: block;\n",
              "  width: 100%;\n",
              "  margin-bottom: 0;\n",
              "  padding: 0.5em;\n",
              "  box-sizing: border-box;\n",
              "  text-align: center;\n",
              "}\n",
              "\n",
              "#sk-container-id-1 label.sk-toggleable__label-arrow:before {\n",
              "  /* Arrow on the left of the label */\n",
              "  content: \"▸\";\n",
              "  float: left;\n",
              "  margin-right: 0.25em;\n",
              "  color: var(--sklearn-color-icon);\n",
              "}\n",
              "\n",
              "#sk-container-id-1 label.sk-toggleable__label-arrow:hover:before {\n",
              "  color: var(--sklearn-color-text);\n",
              "}\n",
              "\n",
              "/* Toggleable content - dropdown */\n",
              "\n",
              "#sk-container-id-1 div.sk-toggleable__content {\n",
              "  max-height: 0;\n",
              "  max-width: 0;\n",
              "  overflow: hidden;\n",
              "  text-align: left;\n",
              "  /* unfitted */\n",
              "  background-color: var(--sklearn-color-unfitted-level-0);\n",
              "}\n",
              "\n",
              "#sk-container-id-1 div.sk-toggleable__content.fitted {\n",
              "  /* fitted */\n",
              "  background-color: var(--sklearn-color-fitted-level-0);\n",
              "}\n",
              "\n",
              "#sk-container-id-1 div.sk-toggleable__content pre {\n",
              "  margin: 0.2em;\n",
              "  border-radius: 0.25em;\n",
              "  color: var(--sklearn-color-text);\n",
              "  /* unfitted */\n",
              "  background-color: var(--sklearn-color-unfitted-level-0);\n",
              "}\n",
              "\n",
              "#sk-container-id-1 div.sk-toggleable__content.fitted pre {\n",
              "  /* unfitted */\n",
              "  background-color: var(--sklearn-color-fitted-level-0);\n",
              "}\n",
              "\n",
              "#sk-container-id-1 input.sk-toggleable__control:checked~div.sk-toggleable__content {\n",
              "  /* Expand drop-down */\n",
              "  max-height: 200px;\n",
              "  max-width: 100%;\n",
              "  overflow: auto;\n",
              "}\n",
              "\n",
              "#sk-container-id-1 input.sk-toggleable__control:checked~label.sk-toggleable__label-arrow:before {\n",
              "  content: \"▾\";\n",
              "}\n",
              "\n",
              "/* Pipeline/ColumnTransformer-specific style */\n",
              "\n",
              "#sk-container-id-1 div.sk-label input.sk-toggleable__control:checked~label.sk-toggleable__label {\n",
              "  color: var(--sklearn-color-text);\n",
              "  background-color: var(--sklearn-color-unfitted-level-2);\n",
              "}\n",
              "\n",
              "#sk-container-id-1 div.sk-label.fitted input.sk-toggleable__control:checked~label.sk-toggleable__label {\n",
              "  background-color: var(--sklearn-color-fitted-level-2);\n",
              "}\n",
              "\n",
              "/* Estimator-specific style */\n",
              "\n",
              "/* Colorize estimator box */\n",
              "#sk-container-id-1 div.sk-estimator input.sk-toggleable__control:checked~label.sk-toggleable__label {\n",
              "  /* unfitted */\n",
              "  background-color: var(--sklearn-color-unfitted-level-2);\n",
              "}\n",
              "\n",
              "#sk-container-id-1 div.sk-estimator.fitted input.sk-toggleable__control:checked~label.sk-toggleable__label {\n",
              "  /* fitted */\n",
              "  background-color: var(--sklearn-color-fitted-level-2);\n",
              "}\n",
              "\n",
              "#sk-container-id-1 div.sk-label label.sk-toggleable__label,\n",
              "#sk-container-id-1 div.sk-label label {\n",
              "  /* The background is the default theme color */\n",
              "  color: var(--sklearn-color-text-on-default-background);\n",
              "}\n",
              "\n",
              "/* On hover, darken the color of the background */\n",
              "#sk-container-id-1 div.sk-label:hover label.sk-toggleable__label {\n",
              "  color: var(--sklearn-color-text);\n",
              "  background-color: var(--sklearn-color-unfitted-level-2);\n",
              "}\n",
              "\n",
              "/* Label box, darken color on hover, fitted */\n",
              "#sk-container-id-1 div.sk-label.fitted:hover label.sk-toggleable__label.fitted {\n",
              "  color: var(--sklearn-color-text);\n",
              "  background-color: var(--sklearn-color-fitted-level-2);\n",
              "}\n",
              "\n",
              "/* Estimator label */\n",
              "\n",
              "#sk-container-id-1 div.sk-label label {\n",
              "  font-family: monospace;\n",
              "  font-weight: bold;\n",
              "  display: inline-block;\n",
              "  line-height: 1.2em;\n",
              "}\n",
              "\n",
              "#sk-container-id-1 div.sk-label-container {\n",
              "  text-align: center;\n",
              "}\n",
              "\n",
              "/* Estimator-specific */\n",
              "#sk-container-id-1 div.sk-estimator {\n",
              "  font-family: monospace;\n",
              "  border: 1px dotted var(--sklearn-color-border-box);\n",
              "  border-radius: 0.25em;\n",
              "  box-sizing: border-box;\n",
              "  margin-bottom: 0.5em;\n",
              "  /* unfitted */\n",
              "  background-color: var(--sklearn-color-unfitted-level-0);\n",
              "}\n",
              "\n",
              "#sk-container-id-1 div.sk-estimator.fitted {\n",
              "  /* fitted */\n",
              "  background-color: var(--sklearn-color-fitted-level-0);\n",
              "}\n",
              "\n",
              "/* on hover */\n",
              "#sk-container-id-1 div.sk-estimator:hover {\n",
              "  /* unfitted */\n",
              "  background-color: var(--sklearn-color-unfitted-level-2);\n",
              "}\n",
              "\n",
              "#sk-container-id-1 div.sk-estimator.fitted:hover {\n",
              "  /* fitted */\n",
              "  background-color: var(--sklearn-color-fitted-level-2);\n",
              "}\n",
              "\n",
              "/* Specification for estimator info (e.g. \"i\" and \"?\") */\n",
              "\n",
              "/* Common style for \"i\" and \"?\" */\n",
              "\n",
              ".sk-estimator-doc-link,\n",
              "a:link.sk-estimator-doc-link,\n",
              "a:visited.sk-estimator-doc-link {\n",
              "  float: right;\n",
              "  font-size: smaller;\n",
              "  line-height: 1em;\n",
              "  font-family: monospace;\n",
              "  background-color: var(--sklearn-color-background);\n",
              "  border-radius: 1em;\n",
              "  height: 1em;\n",
              "  width: 1em;\n",
              "  text-decoration: none !important;\n",
              "  margin-left: 1ex;\n",
              "  /* unfitted */\n",
              "  border: var(--sklearn-color-unfitted-level-1) 1pt solid;\n",
              "  color: var(--sklearn-color-unfitted-level-1);\n",
              "}\n",
              "\n",
              ".sk-estimator-doc-link.fitted,\n",
              "a:link.sk-estimator-doc-link.fitted,\n",
              "a:visited.sk-estimator-doc-link.fitted {\n",
              "  /* fitted */\n",
              "  border: var(--sklearn-color-fitted-level-1) 1pt solid;\n",
              "  color: var(--sklearn-color-fitted-level-1);\n",
              "}\n",
              "\n",
              "/* On hover */\n",
              "div.sk-estimator:hover .sk-estimator-doc-link:hover,\n",
              ".sk-estimator-doc-link:hover,\n",
              "div.sk-label-container:hover .sk-estimator-doc-link:hover,\n",
              ".sk-estimator-doc-link:hover {\n",
              "  /* unfitted */\n",
              "  background-color: var(--sklearn-color-unfitted-level-3);\n",
              "  color: var(--sklearn-color-background);\n",
              "  text-decoration: none;\n",
              "}\n",
              "\n",
              "div.sk-estimator.fitted:hover .sk-estimator-doc-link.fitted:hover,\n",
              ".sk-estimator-doc-link.fitted:hover,\n",
              "div.sk-label-container:hover .sk-estimator-doc-link.fitted:hover,\n",
              ".sk-estimator-doc-link.fitted:hover {\n",
              "  /* fitted */\n",
              "  background-color: var(--sklearn-color-fitted-level-3);\n",
              "  color: var(--sklearn-color-background);\n",
              "  text-decoration: none;\n",
              "}\n",
              "\n",
              "/* Span, style for the box shown on hovering the info icon */\n",
              ".sk-estimator-doc-link span {\n",
              "  display: none;\n",
              "  z-index: 9999;\n",
              "  position: relative;\n",
              "  font-weight: normal;\n",
              "  right: .2ex;\n",
              "  padding: .5ex;\n",
              "  margin: .5ex;\n",
              "  width: min-content;\n",
              "  min-width: 20ex;\n",
              "  max-width: 50ex;\n",
              "  color: var(--sklearn-color-text);\n",
              "  box-shadow: 2pt 2pt 4pt #999;\n",
              "  /* unfitted */\n",
              "  background: var(--sklearn-color-unfitted-level-0);\n",
              "  border: .5pt solid var(--sklearn-color-unfitted-level-3);\n",
              "}\n",
              "\n",
              ".sk-estimator-doc-link.fitted span {\n",
              "  /* fitted */\n",
              "  background: var(--sklearn-color-fitted-level-0);\n",
              "  border: var(--sklearn-color-fitted-level-3);\n",
              "}\n",
              "\n",
              ".sk-estimator-doc-link:hover span {\n",
              "  display: block;\n",
              "}\n",
              "\n",
              "/* \"?\"-specific style due to the `<a>` HTML tag */\n",
              "\n",
              "#sk-container-id-1 a.estimator_doc_link {\n",
              "  float: right;\n",
              "  font-size: 1rem;\n",
              "  line-height: 1em;\n",
              "  font-family: monospace;\n",
              "  background-color: var(--sklearn-color-background);\n",
              "  border-radius: 1rem;\n",
              "  height: 1rem;\n",
              "  width: 1rem;\n",
              "  text-decoration: none;\n",
              "  /* unfitted */\n",
              "  color: var(--sklearn-color-unfitted-level-1);\n",
              "  border: var(--sklearn-color-unfitted-level-1) 1pt solid;\n",
              "}\n",
              "\n",
              "#sk-container-id-1 a.estimator_doc_link.fitted {\n",
              "  /* fitted */\n",
              "  border: var(--sklearn-color-fitted-level-1) 1pt solid;\n",
              "  color: var(--sklearn-color-fitted-level-1);\n",
              "}\n",
              "\n",
              "/* On hover */\n",
              "#sk-container-id-1 a.estimator_doc_link:hover {\n",
              "  /* unfitted */\n",
              "  background-color: var(--sklearn-color-unfitted-level-3);\n",
              "  color: var(--sklearn-color-background);\n",
              "  text-decoration: none;\n",
              "}\n",
              "\n",
              "#sk-container-id-1 a.estimator_doc_link.fitted:hover {\n",
              "  /* fitted */\n",
              "  background-color: var(--sklearn-color-fitted-level-3);\n",
              "}\n",
              "</style><div id=\"sk-container-id-1\" class=\"sk-top-container\"><div class=\"sk-text-repr-fallback\"><pre>RandomForestRegressor()</pre><b>In a Jupyter environment, please rerun this cell to show the HTML representation or trust the notebook. <br />On GitHub, the HTML representation is unable to render, please try loading this page with nbviewer.org.</b></div><div class=\"sk-container\" hidden><div class=\"sk-item\"><div class=\"sk-estimator fitted sk-toggleable\"><input class=\"sk-toggleable__control sk-hidden--visually\" id=\"sk-estimator-id-1\" type=\"checkbox\" checked><label for=\"sk-estimator-id-1\" class=\"sk-toggleable__label fitted sk-toggleable__label-arrow fitted\">&nbsp;&nbsp;RandomForestRegressor<a class=\"sk-estimator-doc-link fitted\" rel=\"noreferrer\" target=\"_blank\" href=\"https://scikit-learn.org/1.4/modules/generated/sklearn.ensemble.RandomForestRegressor.html\">?<span>Documentation for RandomForestRegressor</span></a><span class=\"sk-estimator-doc-link fitted\">i<span>Fitted</span></span></label><div class=\"sk-toggleable__content fitted\"><pre>RandomForestRegressor()</pre></div> </div></div></div></div>"
            ],
            "text/plain": [
              "RandomForestRegressor()"
            ]
          },
          "execution_count": 17,
          "metadata": {},
          "output_type": "execute_result"
        }
      ],
      "source": [
        "ml = RandomForestRegressor(n_estimators=100)\n",
        "ml.fit(X_train, y_train)"
      ]
    },
    {
      "cell_type": "markdown",
      "metadata": {},
      "source": [
        "### Predicción y métrica"
      ]
    },
    {
      "cell_type": "markdown",
      "metadata": {},
      "source": [
        "predict_train = ml.predict(X_train)\n",
        "score = ml.score(X_train,y_train)\n",
        "print(\"Metrica sobre el conjunto de entrenamiento\", score_pred)\n",
        "Metrica del modelo 0.9959"
      ]
    },
    {
      "cell_type": "code",
      "execution_count": 18,
      "metadata": {
        "colab": {
          "base_uri": "https://localhost:8080/"
        },
        "id": "TaqeY8xdbKou",
        "outputId": "65c05678-7a8c-4a95-94d7-1cdf24797469"
      },
      "outputs": [
        {
          "name": "stdout",
          "output_type": "stream",
          "text": [
            "Metrica de la predicción 0.9637273256321198\n"
          ]
        }
      ],
      "source": [
        "predictions = ml.predict(X_test)\n",
        "score_pred = ml.score(X_test,y_test)\n",
        "print(\"Metrica de la predicción\", score_pred)"
      ]
    },
    {
      "cell_type": "code",
      "execution_count": 19,
      "metadata": {
        "colab": {
          "base_uri": "https://localhost:8080/",
          "height": 472
        },
        "id": "O7gyIVMQuq_J",
        "outputId": "89f735ce-90a1-4d9f-8675-fab7a94dab12"
      },
      "outputs": [
        {
          "data": {
            "image/png": "[encoded data removed]",
            "text/plain": [
              "<Figure size 640x480 with 1 Axes>"
            ]
          },
          "metadata": {},
          "output_type": "display_data"
        }
      ],
      "source": [
        "# Visualising the Random Forest Regression results\n",
        "\n",
        "# Scatter plot for original data\n",
        "plt.scatter(X['Year'], y, color='blue')\n",
        "\n",
        "# plot predicted data\n",
        "plt.scatter(X['Year'], ml.predict(X), color='green')\n",
        "plt.title('Random Forest Regression')\n",
        "plt.xlabel('Year')\n",
        "plt.ylabel('Trafico')\n",
        "\n",
        "plt.show()"
      ]
    },
    {
      "cell_type": "code",
      "execution_count": 20,
      "metadata": {
        "colab": {
          "base_uri": "https://localhost:8080/",
          "height": 472
        },
        "id": "42WwlGgcyg1c",
        "outputId": "53d68989-7edc-4a15-bd0d-52b78f509977"
      },
      "outputs": [
        {
          "data": {
            "image/png": "[encoded data removed]",
            "text/plain": [
              "<Figure size 640x480 with 1 Axes>"
            ]
          },
          "metadata": {},
          "output_type": "display_data"
        }
      ],
      "source": [
        "# Scatter plot for original data\n",
        "plt.scatter(X['IdPeaje'], y, color='blue')\n",
        "\n",
        "# plot predicted data\n",
        "plt.scatter(X['IdPeaje'], ml.predict(X), color='green')\n",
        "plt.title('Random Forest Regression')\n",
        "plt.xlabel('IdPeaje')\n",
        "plt.ylabel('Trafico')\n",
        "\n",
        "plt.show()"
      ]
    },
    {
      "cell_type": "code",
      "execution_count": 21,
      "metadata": {
        "colab": {
          "base_uri": "https://localhost:8080/",
          "height": 472
        },
        "id": "Tpf3uGKP2HfT",
        "outputId": "04575705-7f35-4c1e-9aaa-b36679b3fe8b"
      },
      "outputs": [
        {
          "data": {
            "image/png": "[encoded data removed]",
            "text/plain": [
              "<Figure size 640x480 with 1 Axes>"
            ]
          },
          "metadata": {},
          "output_type": "display_data"
        }
      ],
      "source": [
        "# Scatter plot for original data\n",
        "plt.scatter(X['IDC'], y, color='blue')\n",
        "\n",
        "# plot predicted data\n",
        "plt.scatter(X['IDC'], ml.predict(X), color='green')\n",
        "plt.title('Random Forest Regression')\n",
        "plt.xlabel('IDC')\n",
        "plt.ylabel('Trafico')\n",
        "\n",
        "plt.show()"
      ]
    },
    {
      "cell_type": "code",
      "execution_count": 22,
      "metadata": {
        "colab": {
          "base_uri": "https://localhost:8080/",
          "height": 472
        },
        "id": "XhSdMggs2LQB",
        "outputId": "59465d65-5a70-45e3-d05f-214596b9bcbe"
      },
      "outputs": [
        {
          "data": {
            "image/png": "[encoded data removed]",
            "text/plain": [
              "<Figure size 640x480 with 1 Axes>"
            ]
          },
          "metadata": {},
          "output_type": "display_data"
        }
      ],
      "source": [
        "# Scatter plot for original data\n",
        "plt.scatter(X['Month'], y, color='blue')\n",
        "\n",
        "# plot predicted data\n",
        "plt.scatter(X['Month'], ml.predict(X), color='green')\n",
        "plt.title('Random Forest Regression')\n",
        "plt.xlabel('Month')\n",
        "plt.ylabel('Trafico')\n",
        "\n",
        "plt.show()"
      ]
    },
    {
      "cell_type": "code",
      "execution_count": 23,
      "metadata": {
        "colab": {
          "base_uri": "https://localhost:8080/",
          "height": 472
        },
        "id": "BUCz6oyC2OP1",
        "outputId": "dd0cb5a5-91ed-4c8e-9816-bd5878f39d0b"
      },
      "outputs": [
        {
          "data": {
            "image/png": "[encoded data removed]",
            "text/plain": [
              "<Figure size 640x480 with 1 Axes>"
            ]
          },
          "metadata": {},
          "output_type": "display_data"
        }
      ],
      "source": [
        "# Scatter plot for original data\n",
        "plt.scatter(X['Day'], y, color='blue')\n",
        "\n",
        "# plot predicted data\n",
        "plt.scatter(X['Day'], ml.predict(X), color='green')\n",
        "plt.title('Random Forest Regression')\n",
        "plt.xlabel('Day')\n",
        "plt.ylabel('Trafico')\n",
        "\n",
        "plt.show()"
      ]
    },
    {
      "cell_type": "code",
      "execution_count": 24,
      "metadata": {
        "colab": {
          "base_uri": "https://localhost:8080/",
          "height": 472
        },
        "id": "xkf8yGEz2Qn-",
        "outputId": "d9fb3253-afe9-4eff-dd30-2a38cbc910ce"
      },
      "outputs": [
        {
          "data": {
            "image/png": "[encoded data removed]",
            "text/plain": [
              "<Figure size 640x480 with 1 Axes>"
            ]
          },
          "metadata": {},
          "output_type": "display_data"
        }
      ],
      "source": [
        "# Scatter plot for original data\n",
        "plt.scatter(X['ValorTarifa'], y, color='blue')\n",
        "\n",
        "# plot predicted data\n",
        "plt.scatter(X['ValorTarifa'], ml.predict(X), color='green')\n",
        "plt.title('Random Forest Regression')\n",
        "plt.xlabel('ValorTarifa')\n",
        "plt.ylabel('Trafico')\n",
        "\n",
        "plt.show()"
      ]
    },
    {
      "cell_type": "markdown",
      "metadata": {
        "id": "fagVh5udJFVq"
      },
      "source": [
        "### Reentrenamiento hasta el 2021 y Predicción con 2022"
      ]
    },
    {
      "cell_type": "code",
      "execution_count": 25,
      "metadata": {
        "colab": {
          "base_uri": "https://localhost:8080/",
          "height": 790
        },
        "id": "DkQ63zOHJf2D",
        "outputId": "54e554bd-f661-46a4-ed50-d1bd9a8e83bc"
      },
      "outputs": [
        {
          "data": {
            "text/html": [
              "<div>\n",
              "<style scoped>\n",
              "    .dataframe tbody tr th:only-of-type {\n",
              "        vertical-align: middle;\n",
              "    }\n",
              "\n",
              "    .dataframe tbody tr th {\n",
              "        vertical-align: top;\n",
              "    }\n",
              "\n",
              "    .dataframe thead th {\n",
              "        text-align: right;\n",
              "    }\n",
              "</style>\n",
              "<table border=\"1\" class=\"dataframe\">\n",
              "  <thead>\n",
              "    <tr style=\"text-align: right;\">\n",
              "      <th></th>\n",
              "      <th>IdPeaje</th>\n",
              "      <th>Peaje</th>\n",
              "      <th>IdCategoriaTarifa</th>\n",
              "      <th>FechaDesde</th>\n",
              "      <th>FechaHasta</th>\n",
              "      <th>ValorTarifa</th>\n",
              "      <th>Trafico</th>\n",
              "      <th>TraficoEvasores</th>\n",
              "      <th>TraficoExentos787</th>\n",
              "      <th>Lat</th>\n",
              "      <th>Lon</th>\n",
              "      <th>IDC</th>\n",
              "      <th>geometry</th>\n",
              "      <th>Year</th>\n",
              "      <th>Month</th>\n",
              "      <th>Day</th>\n",
              "    </tr>\n",
              "  </thead>\n",
              "  <tbody>\n",
              "    <tr>\n",
              "      <th>0</th>\n",
              "      <td>1</td>\n",
              "      <td>ALVARADO</td>\n",
              "      <td>I</td>\n",
              "      <td>2015-08-21</td>\n",
              "      <td>2015-08-31</td>\n",
              "      <td>7000</td>\n",
              "      <td>27730</td>\n",
              "      <td>0.0</td>\n",
              "      <td>660.0</td>\n",
              "      <td>-74.991661</td>\n",
              "      <td>4.507609</td>\n",
              "      <td>1</td>\n",
              "      <td>POINT (4.50761 -74.99166)</td>\n",
              "      <td>2015</td>\n",
              "      <td>8</td>\n",
              "      <td>21</td>\n",
              "    </tr>\n",
              "    <tr>\n",
              "      <th>1</th>\n",
              "      <td>1</td>\n",
              "      <td>ALVARADO</td>\n",
              "      <td>II</td>\n",
              "      <td>2015-08-21</td>\n",
              "      <td>2015-08-31</td>\n",
              "      <td>7600</td>\n",
              "      <td>9930</td>\n",
              "      <td>0.0</td>\n",
              "      <td>70.0</td>\n",
              "      <td>-74.991661</td>\n",
              "      <td>4.507609</td>\n",
              "      <td>2</td>\n",
              "      <td>POINT (4.50761 -74.99166)</td>\n",
              "      <td>2015</td>\n",
              "      <td>8</td>\n",
              "      <td>21</td>\n",
              "    </tr>\n",
              "    <tr>\n",
              "      <th>2</th>\n",
              "      <td>1</td>\n",
              "      <td>ALVARADO</td>\n",
              "      <td>III</td>\n",
              "      <td>2015-08-21</td>\n",
              "      <td>2015-08-31</td>\n",
              "      <td>16100</td>\n",
              "      <td>1277</td>\n",
              "      <td>0.0</td>\n",
              "      <td>0.0</td>\n",
              "      <td>-74.991661</td>\n",
              "      <td>4.507609</td>\n",
              "      <td>3</td>\n",
              "      <td>POINT (4.50761 -74.99166)</td>\n",
              "      <td>2015</td>\n",
              "      <td>8</td>\n",
              "      <td>21</td>\n",
              "    </tr>\n",
              "    <tr>\n",
              "      <th>3</th>\n",
              "      <td>1</td>\n",
              "      <td>ALVARADO</td>\n",
              "      <td>IV</td>\n",
              "      <td>2015-08-21</td>\n",
              "      <td>2015-08-31</td>\n",
              "      <td>20400</td>\n",
              "      <td>2074</td>\n",
              "      <td>0.0</td>\n",
              "      <td>0.0</td>\n",
              "      <td>-74.991661</td>\n",
              "      <td>4.507609</td>\n",
              "      <td>4</td>\n",
              "      <td>POINT (4.50761 -74.99166)</td>\n",
              "      <td>2015</td>\n",
              "      <td>8</td>\n",
              "      <td>21</td>\n",
              "    </tr>\n",
              "    <tr>\n",
              "      <th>4</th>\n",
              "      <td>1</td>\n",
              "      <td>ALVARADO</td>\n",
              "      <td>V</td>\n",
              "      <td>2015-08-21</td>\n",
              "      <td>2015-08-31</td>\n",
              "      <td>22900</td>\n",
              "      <td>4167</td>\n",
              "      <td>0.0</td>\n",
              "      <td>0.0</td>\n",
              "      <td>-74.991661</td>\n",
              "      <td>4.507609</td>\n",
              "      <td>5</td>\n",
              "      <td>POINT (4.50761 -74.99166)</td>\n",
              "      <td>2015</td>\n",
              "      <td>8</td>\n",
              "      <td>21</td>\n",
              "    </tr>\n",
              "  </tbody>\n",
              "</table>\n",
              "</div>"
            ],
            "text/plain": [
              "   IdPeaje     Peaje IdCategoriaTarifa FechaDesde FechaHasta  ValorTarifa  \\\n",
              "0        1  ALVARADO                 I 2015-08-21 2015-08-31         7000   \n",
              "1        1  ALVARADO                II 2015-08-21 2015-08-31         7600   \n",
              "2        1  ALVARADO               III 2015-08-21 2015-08-31        16100   \n",
              "3        1  ALVARADO                IV 2015-08-21 2015-08-31        20400   \n",
              "4        1  ALVARADO                 V 2015-08-21 2015-08-31        22900   \n",
              "\n",
              "   Trafico  TraficoEvasores  TraficoExentos787        Lat       Lon  IDC  \\\n",
              "0    27730              0.0              660.0 -74.991661  4.507609    1   \n",
              "1     9930              0.0               70.0 -74.991661  4.507609    2   \n",
              "2     1277              0.0                0.0 -74.991661  4.507609    3   \n",
              "3     2074              0.0                0.0 -74.991661  4.507609    4   \n",
              "4     4167              0.0                0.0 -74.991661  4.507609    5   \n",
              "\n",
              "                    geometry  Year  Month  Day  \n",
              "0  POINT (4.50761 -74.99166)  2015      8   21  \n",
              "1  POINT (4.50761 -74.99166)  2015      8   21  \n",
              "2  POINT (4.50761 -74.99166)  2015      8   21  \n",
              "3  POINT (4.50761 -74.99166)  2015      8   21  \n",
              "4  POINT (4.50761 -74.99166)  2015      8   21  "
            ]
          },
          "execution_count": 25,
          "metadata": {},
          "output_type": "execute_result"
        }
      ],
      "source": [
        "gdf_peajes21 = gdf_peajes.drop(gdf_peajes[gdf_peajes['Year'] == 2022].index)\n",
        "gdf_peajes21.head()"
      ]
    },
    {
      "cell_type": "markdown",
      "metadata": {},
      "source": [
        "#### Separación de conjunto Train y Test"
      ]
    },
    {
      "cell_type": "code",
      "execution_count": 26,
      "metadata": {
        "id": "AEF9Mxb-JrJD"
      },
      "outputs": [],
      "source": [
        "X = gdf_peajes21[['IdPeaje','IDC','Year','Month','Day','ValorTarifa']]\n",
        "y = gdf_peajes21['Trafico']\n",
        "\n",
        "X_train, X_test, y_train, y_test = train_test_split(X, y, test_size=0.2, random_state=42)"
      ]
    },
    {
      "cell_type": "markdown",
      "metadata": {},
      "source": [
        "#### Entrenamiento de nuevo modelo"
      ]
    },
    {
      "cell_type": "code",
      "execution_count": 27,
      "metadata": {
        "colab": {
          "base_uri": "https://localhost:8080/"
        },
        "id": "uIXcHvoeLFMv",
        "outputId": "07389ecb-083b-4858-f9a8-baf3bac3a45f"
      },
      "outputs": [
        {
          "name": "stdout",
          "output_type": "stream",
          "text": [
            "Metrica del modelo 0.9961990066116798\n"
          ]
        }
      ],
      "source": [
        "ml = RandomForestRegressor(n_estimators=100)\n",
        "ml.fit(X_train, y_train)\n",
        "predict_train = ml.predict(X_train)\n",
        "score = ml.score(X_train,y_train)\n",
        "print(\"Metrica del modelo\", score)"
      ]
    },
    {
      "cell_type": "code",
      "execution_count": 28,
      "metadata": {
        "colab": {
          "base_uri": "https://localhost:8080/"
        },
        "id": "oS3R4J7ULIwl",
        "outputId": "ef5595f4-15f4-4f8a-b0df-44b9ea169ac6"
      },
      "outputs": [
        {
          "name": "stdout",
          "output_type": "stream",
          "text": [
            "Metrica de la predección 0.9702124234054562\n"
          ]
        }
      ],
      "source": [
        "predictions = ml.predict(X_test)\n",
        "score_pred = ml.score(X_test,y_test)\n",
        "print(\"Metrica de la predección\", score_pred)"
      ]
    },
    {
      "cell_type": "markdown",
      "metadata": {
        "id": "KL-wJTjbLR4V"
      },
      "source": [
        "### DataFrame del 2022"
      ]
    },
    {
      "cell_type": "code",
      "execution_count": 29,
      "metadata": {
        "colab": {
          "base_uri": "https://localhost:8080/",
          "height": 790
        },
        "id": "ov1MWB28LNlc",
        "outputId": "d57ee312-a335-4ec6-9653-65f9878b0466"
      },
      "outputs": [
        {
          "data": {
            "text/html": [
              "<div>\n",
              "<style scoped>\n",
              "    .dataframe tbody tr th:only-of-type {\n",
              "        vertical-align: middle;\n",
              "    }\n",
              "\n",
              "    .dataframe tbody tr th {\n",
              "        vertical-align: top;\n",
              "    }\n",
              "\n",
              "    .dataframe thead th {\n",
              "        text-align: right;\n",
              "    }\n",
              "</style>\n",
              "<table border=\"1\" class=\"dataframe\">\n",
              "  <thead>\n",
              "    <tr style=\"text-align: right;\">\n",
              "      <th></th>\n",
              "      <th>IdPeaje</th>\n",
              "      <th>Peaje</th>\n",
              "      <th>IdCategoriaTarifa</th>\n",
              "      <th>FechaDesde</th>\n",
              "      <th>FechaHasta</th>\n",
              "      <th>ValorTarifa</th>\n",
              "      <th>Trafico</th>\n",
              "      <th>TraficoEvasores</th>\n",
              "      <th>TraficoExentos787</th>\n",
              "      <th>Lat</th>\n",
              "      <th>Lon</th>\n",
              "      <th>IDC</th>\n",
              "      <th>geometry</th>\n",
              "      <th>Year</th>\n",
              "      <th>Month</th>\n",
              "      <th>Day</th>\n",
              "    </tr>\n",
              "  </thead>\n",
              "  <tbody>\n",
              "    <tr>\n",
              "      <th>711</th>\n",
              "      <td>1</td>\n",
              "      <td>ALVARADO</td>\n",
              "      <td>I</td>\n",
              "      <td>2022-01-01</td>\n",
              "      <td>2022-01-15</td>\n",
              "      <td>11300</td>\n",
              "      <td>77233</td>\n",
              "      <td>0.0</td>\n",
              "      <td>711.0</td>\n",
              "      <td>-74.991661</td>\n",
              "      <td>4.507609</td>\n",
              "      <td>1</td>\n",
              "      <td>POINT (4.50761 -74.99166)</td>\n",
              "      <td>2022</td>\n",
              "      <td>1</td>\n",
              "      <td>1</td>\n",
              "    </tr>\n",
              "    <tr>\n",
              "      <th>712</th>\n",
              "      <td>1</td>\n",
              "      <td>ALVARADO</td>\n",
              "      <td>II</td>\n",
              "      <td>2022-01-01</td>\n",
              "      <td>2022-01-15</td>\n",
              "      <td>12000</td>\n",
              "      <td>4369</td>\n",
              "      <td>0.0</td>\n",
              "      <td>34.0</td>\n",
              "      <td>-74.991661</td>\n",
              "      <td>4.507609</td>\n",
              "      <td>2</td>\n",
              "      <td>POINT (4.50761 -74.99166)</td>\n",
              "      <td>2022</td>\n",
              "      <td>1</td>\n",
              "      <td>1</td>\n",
              "    </tr>\n",
              "    <tr>\n",
              "      <th>713</th>\n",
              "      <td>1</td>\n",
              "      <td>ALVARADO</td>\n",
              "      <td>III</td>\n",
              "      <td>2022-01-01</td>\n",
              "      <td>2022-01-15</td>\n",
              "      <td>12500</td>\n",
              "      <td>3269</td>\n",
              "      <td>0.0</td>\n",
              "      <td>29.0</td>\n",
              "      <td>-74.991661</td>\n",
              "      <td>4.507609</td>\n",
              "      <td>3</td>\n",
              "      <td>POINT (4.50761 -74.99166)</td>\n",
              "      <td>2022</td>\n",
              "      <td>1</td>\n",
              "      <td>1</td>\n",
              "    </tr>\n",
              "    <tr>\n",
              "      <th>714</th>\n",
              "      <td>1</td>\n",
              "      <td>ALVARADO</td>\n",
              "      <td>IV</td>\n",
              "      <td>2022-01-01</td>\n",
              "      <td>2022-01-15</td>\n",
              "      <td>13100</td>\n",
              "      <td>4748</td>\n",
              "      <td>0.0</td>\n",
              "      <td>7.0</td>\n",
              "      <td>-74.991661</td>\n",
              "      <td>4.507609</td>\n",
              "      <td>4</td>\n",
              "      <td>POINT (4.50761 -74.99166)</td>\n",
              "      <td>2022</td>\n",
              "      <td>1</td>\n",
              "      <td>1</td>\n",
              "    </tr>\n",
              "    <tr>\n",
              "      <th>715</th>\n",
              "      <td>1</td>\n",
              "      <td>ALVARADO</td>\n",
              "      <td>V</td>\n",
              "      <td>2022-01-01</td>\n",
              "      <td>2022-01-15</td>\n",
              "      <td>27800</td>\n",
              "      <td>1942</td>\n",
              "      <td>0.0</td>\n",
              "      <td>2.0</td>\n",
              "      <td>-74.991661</td>\n",
              "      <td>4.507609</td>\n",
              "      <td>5</td>\n",
              "      <td>POINT (4.50761 -74.99166)</td>\n",
              "      <td>2022</td>\n",
              "      <td>1</td>\n",
              "      <td>1</td>\n",
              "    </tr>\n",
              "  </tbody>\n",
              "</table>\n",
              "</div>"
            ],
            "text/plain": [
              "     IdPeaje     Peaje IdCategoriaTarifa FechaDesde FechaHasta  ValorTarifa  \\\n",
              "711        1  ALVARADO                 I 2022-01-01 2022-01-15        11300   \n",
              "712        1  ALVARADO                II 2022-01-01 2022-01-15        12000   \n",
              "713        1  ALVARADO               III 2022-01-01 2022-01-15        12500   \n",
              "714        1  ALVARADO                IV 2022-01-01 2022-01-15        13100   \n",
              "715        1  ALVARADO                 V 2022-01-01 2022-01-15        27800   \n",
              "\n",
              "     Trafico  TraficoEvasores  TraficoExentos787        Lat       Lon  IDC  \\\n",
              "711    77233              0.0              711.0 -74.991661  4.507609    1   \n",
              "712     4369              0.0               34.0 -74.991661  4.507609    2   \n",
              "713     3269              0.0               29.0 -74.991661  4.507609    3   \n",
              "714     4748              0.0                7.0 -74.991661  4.507609    4   \n",
              "715     1942              0.0                2.0 -74.991661  4.507609    5   \n",
              "\n",
              "                      geometry  Year  Month  Day  \n",
              "711  POINT (4.50761 -74.99166)  2022      1    1  \n",
              "712  POINT (4.50761 -74.99166)  2022      1    1  \n",
              "713  POINT (4.50761 -74.99166)  2022      1    1  \n",
              "714  POINT (4.50761 -74.99166)  2022      1    1  \n",
              "715  POINT (4.50761 -74.99166)  2022      1    1  "
            ]
          },
          "execution_count": 29,
          "metadata": {},
          "output_type": "execute_result"
        }
      ],
      "source": [
        "gdf_peajes22 = gdf_peajes.drop(gdf_peajes[gdf_peajes['Year'] != 2022].index)\n",
        "X22 = gdf_peajes22[['IdPeaje','IDC','Year','Month','Day','ValorTarifa']]\n",
        "y22 = gdf_peajes22['Trafico']\n",
        "gdf_peajes22.head()"
      ]
    },
    {
      "cell_type": "code",
      "execution_count": 30,
      "metadata": {
        "colab": {
          "base_uri": "https://localhost:8080/"
        },
        "id": "mmmSebUgNWNs",
        "outputId": "af328e27-907e-43e2-8da7-1d8b38dcdb4b"
      },
      "outputs": [
        {
          "name": "stdout",
          "output_type": "stream",
          "text": [
            "Metrica de la predección 0.8676357868141639\n"
          ]
        }
      ],
      "source": [
        "predictions = ml.predict(X22)\n",
        "score_pred = ml.score(X22,y22)\n",
        "print(\"Metrica de la predección\", score_pred)"
      ]
    },
    {
      "cell_type": "code",
      "execution_count": 31,
      "metadata": {
        "colab": {
          "base_uri": "https://localhost:8080/",
          "height": 472
        },
        "id": "uo1Y3eqVNi9y",
        "outputId": "6b780fa9-5607-45e5-8721-83bc8f99e9b2"
      },
      "outputs": [
        {
          "data": {
            "image/png": "[encoded data removed]",
            "text/plain": [
              "<Figure size 640x480 with 1 Axes>"
            ]
          },
          "metadata": {},
          "output_type": "display_data"
        }
      ],
      "source": [
        "# Scatter plot for original data\n",
        "plt.scatter(X22['Day'], y22, color='blue')\n",
        "\n",
        "# plot predicted data\n",
        "plt.scatter(X22['Day'], predictions, color='green')\n",
        "plt.title('Random Forest Regression')\n",
        "plt.xlabel('Day')\n",
        "plt.ylabel('Trafico')\n",
        "\n",
        "plt.show()"
      ]
    },
    {
      "cell_type": "code",
      "execution_count": 32,
      "metadata": {
        "colab": {
          "base_uri": "https://localhost:8080/",
          "height": 472
        },
        "id": "gnm3ec8dNyaZ",
        "outputId": "f841bc98-3b26-4914-d50a-a2a89fb93662"
      },
      "outputs": [
        {
          "data": {
            "image/png": "[encoded data removed]",
            "text/plain": [
              "<Figure size 640x480 with 1 Axes>"
            ]
          },
          "metadata": {},
          "output_type": "display_data"
        }
      ],
      "source": [
        "# Scatter plot for original data\n",
        "plt.scatter(X22['Month'], y22, color='blue')\n",
        "\n",
        "# plot predicted data\n",
        "plt.scatter(X22['Month'], predictions, color='green')\n",
        "plt.title('Random Forest Regression')\n",
        "plt.xlabel('Month')\n",
        "plt.ylabel('Trafico')\n",
        "\n",
        "plt.show()"
      ]
    },
    {
      "cell_type": "code",
      "execution_count": 33,
      "metadata": {
        "colab": {
          "base_uri": "https://localhost:8080/",
          "height": 472
        },
        "id": "0p0jEvI9OgBw",
        "outputId": "c59d38a9-5db5-457c-eb5a-b15704759071"
      },
      "outputs": [
        {
          "data": {
            "image/png": "[encoded data removed]",
            "text/plain": [
              "<Figure size 640x480 with 1 Axes>"
            ]
          },
          "metadata": {},
          "output_type": "display_data"
        }
      ],
      "source": [
        "# Scatter plot for original data\n",
        "plt.scatter(X22['Year'], y22, color='blue')\n",
        "\n",
        "# plot predicted data\n",
        "plt.scatter(X22['Year'], predictions, color='green')\n",
        "plt.title('Random Forest Regression')\n",
        "plt.xlabel('Year')\n",
        "plt.ylabel('Trafico')\n",
        "\n",
        "plt.show()"
      ]
    },
    {
      "cell_type": "code",
      "execution_count": 34,
      "metadata": {
        "colab": {
          "base_uri": "https://localhost:8080/",
          "height": 472
        },
        "id": "k03vrX-eOk6K",
        "outputId": "8c0fd4f1-7bad-472b-eb03-26831287b099"
      },
      "outputs": [
        {
          "data": {
            "image/png": "[encoded data removed]",
            "text/plain": [
              "<Figure size 640x480 with 1 Axes>"
            ]
          },
          "metadata": {},
          "output_type": "display_data"
        }
      ],
      "source": [
        "# Scatter plot for original data\n",
        "plt.scatter(X22['IdPeaje'], y22, color='blue')\n",
        "\n",
        "# plot predicted data\n",
        "plt.scatter(X22['IdPeaje'], predictions, color='green')\n",
        "plt.title('Random Forest Regression')\n",
        "plt.xlabel('IdPeaje')\n",
        "plt.ylabel('Trafico')\n",
        "\n",
        "plt.show()"
      ]
    },
    {
      "cell_type": "code",
      "execution_count": 35,
      "metadata": {
        "colab": {
          "base_uri": "https://localhost:8080/",
          "height": 472
        },
        "id": "fbaWliLYOq3d",
        "outputId": "fd1c1df7-5832-43aa-d768-9fa65b372b13"
      },
      "outputs": [
        {
          "data": {
            "image/png": "[encoded data removed]",
            "text/plain": [
              "<Figure size 640x480 with 1 Axes>"
            ]
          },
          "metadata": {},
          "output_type": "display_data"
        }
      ],
      "source": [
        "# Scatter plot for original data\n",
        "plt.scatter(X22['ValorTarifa'], y22, color='blue')\n",
        "\n",
        "# plot predicted data\n",
        "plt.scatter(X22['ValorTarifa'], predictions, color='green')\n",
        "plt.title('Random Forest Regression')\n",
        "plt.xlabel('ValorTarifa ($COP)')\n",
        "plt.ylabel('Trafico')\n",
        "\n",
        "plt.show()"
      ]
    }
  ],
  "metadata": {
    "colab": {
      "provenance": [],
      "toc_visible": true
    },
    "kernelspec": {
      "display_name": "Python 3",
      "name": "python3"
    },
    "language_info": {
      "codemirror_mode": {
        "name": "ipython",
        "version": 3
      },
      "file_extension": ".py",
      "mimetype": "text/x-python",
      "name": "python",
      "nbconvert_exporter": "python",
      "pygments_lexer": "ipython3",
      "version": "3.11.4"
    }
  },
  "nbformat": 4,
  "nbformat_minor": 0
}
